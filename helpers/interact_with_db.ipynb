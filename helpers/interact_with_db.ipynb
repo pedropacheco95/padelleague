{
 "cells": [
  {
   "cell_type": "code",
   "execution_count": 1,
   "metadata": {},
   "outputs": [
    {
     "name": "stdout",
     "output_type": "stream",
     "text": [
      "Requirement already satisfied: sqlalchemy in ./.venv/lib/python3.11/site-packages (2.0.40)\n",
      "Requirement already satisfied: psycopg2 in ./.venv/lib/python3.11/site-packages (2.9.10)\n",
      "Requirement already satisfied: pandas in ./.venv/lib/python3.11/site-packages (2.2.3)\n",
      "Requirement already satisfied: typing-extensions>=4.6.0 in ./.venv/lib/python3.11/site-packages (from sqlalchemy) (4.13.2)\n",
      "Requirement already satisfied: numpy>=1.23.2 in ./.venv/lib/python3.11/site-packages (from pandas) (2.2.4)\n",
      "Requirement already satisfied: python-dateutil>=2.8.2 in ./.venv/lib/python3.11/site-packages (from pandas) (2.9.0.post0)\n",
      "Requirement already satisfied: pytz>=2020.1 in ./.venv/lib/python3.11/site-packages (from pandas) (2025.2)\n",
      "Requirement already satisfied: tzdata>=2022.7 in ./.venv/lib/python3.11/site-packages (from pandas) (2025.2)\n",
      "Requirement already satisfied: six>=1.5 in ./.venv/lib/python3.11/site-packages (from python-dateutil>=2.8.2->pandas) (1.17.0)\n",
      "\n",
      "\u001b[1m[\u001b[0m\u001b[34;49mnotice\u001b[0m\u001b[1;39;49m]\u001b[0m\u001b[39;49m A new release of pip available: \u001b[0m\u001b[31;49m22.3\u001b[0m\u001b[39;49m -> \u001b[0m\u001b[32;49m25.0.1\u001b[0m\n",
      "\u001b[1m[\u001b[0m\u001b[34;49mnotice\u001b[0m\u001b[1;39;49m]\u001b[0m\u001b[39;49m To update, run: \u001b[0m\u001b[32;49mpip install --upgrade pip\u001b[0m\n"
     ]
    }
   ],
   "source": [
    "!pip install sqlalchemy psycopg2 pandas"
   ]
  },
  {
   "cell_type": "code",
   "execution_count": 2,
   "metadata": {},
   "outputs": [],
   "source": [
    "from sqlalchemy import create_engine, MetaData\n",
    "import pandas as pd\n",
    "import json\n",
    "\n",
    "user = \"padel_user\"\n",
    "password = \"portopadelleague\"\n",
    "host = \"35.205.246.86\"  # your GCE VM public IP\n",
    "port = \"5432\"\n",
    "database = \"padel_league\"\n",
    "\n",
    "# PostgreSQL destination\n",
    "pg_engine = create_engine(f\"postgresql://{user}:{password}@{host}:{port}/{database}\")\n"
   ]
  },
  {
   "cell_type": "code",
   "execution_count": 3,
   "metadata": {},
   "outputs": [
    {
     "name": "stdout",
     "output_type": "stream",
     "text": [
      "['divisions', 'editions', 'leagues', 'matches', 'news', 'order_lines', 'orders', 'users', 'players', 'products', 'players_in_division', 'players_in_match', 'product_attribute_values', 'product_attributes', 'product_attribute_values_in_product', 'product_attributes_in_product', 'product_images', 'registrations']\n"
     ]
    }
   ],
   "source": [
    "from sqlalchemy import inspect\n",
    "\n",
    "inspector = inspect(pg_engine)\n",
    "tables = inspector.get_table_names()\n",
    "print(tables)"
   ]
  },
  {
   "cell_type": "code",
   "execution_count": 4,
   "metadata": {},
   "outputs": [
    {
     "data": {
      "text/html": [
       "<div>\n",
       "<style scoped>\n",
       "    .dataframe tbody tr th:only-of-type {\n",
       "        vertical-align: middle;\n",
       "    }\n",
       "\n",
       "    .dataframe tbody tr th {\n",
       "        vertical-align: top;\n",
       "    }\n",
       "\n",
       "    .dataframe thead th {\n",
       "        text-align: right;\n",
       "    }\n",
       "</style>\n",
       "<table border=\"1\" class=\"dataframe\">\n",
       "  <thead>\n",
       "    <tr style=\"text-align: right;\">\n",
       "      <th></th>\n",
       "      <th>id</th>\n",
       "      <th>name</th>\n",
       "      <th>full_name</th>\n",
       "      <th>birthday</th>\n",
       "      <th>picture_path</th>\n",
       "      <th>large_picture_path</th>\n",
       "      <th>ranking_points</th>\n",
       "      <th>ranking_position</th>\n",
       "      <th>height</th>\n",
       "      <th>prefered_hand</th>\n",
       "      <th>prefered_position</th>\n",
       "    </tr>\n",
       "  </thead>\n",
       "  <tbody>\n",
       "    <tr>\n",
       "      <th>0</th>\n",
       "      <td>1</td>\n",
       "      <td>Luís</td>\n",
       "      <td>Luís Ferreira</td>\n",
       "      <td>NaT</td>\n",
       "      <td>luisferreira.png</td>\n",
       "      <td>large_pic_default.jpg</td>\n",
       "      <td>0</td>\n",
       "      <td>39</td>\n",
       "      <td>1.75</td>\n",
       "      <td>Direita</td>\n",
       "      <td>Tanto faz</td>\n",
       "    </tr>\n",
       "    <tr>\n",
       "      <th>1</th>\n",
       "      <td>2</td>\n",
       "      <td>Miguel C.</td>\n",
       "      <td>Miguel Caeiro</td>\n",
       "      <td>NaT</td>\n",
       "      <td>miguelcaeiro.png</td>\n",
       "      <td>large_pic_default.jpg</td>\n",
       "      <td>0</td>\n",
       "      <td>38</td>\n",
       "      <td>1.75</td>\n",
       "      <td>Direita</td>\n",
       "      <td>Tanto faz</td>\n",
       "    </tr>\n",
       "    <tr>\n",
       "      <th>2</th>\n",
       "      <td>3</td>\n",
       "      <td>Diogo</td>\n",
       "      <td>Diogo Leão</td>\n",
       "      <td>NaT</td>\n",
       "      <td>diogo_3.png</td>\n",
       "      <td>large_pic_default.jpg</td>\n",
       "      <td>2162</td>\n",
       "      <td>10</td>\n",
       "      <td>1.81</td>\n",
       "      <td>Direita</td>\n",
       "      <td>Tanto faz</td>\n",
       "    </tr>\n",
       "    <tr>\n",
       "      <th>3</th>\n",
       "      <td>4</td>\n",
       "      <td>Afonso</td>\n",
       "      <td>Afonso Martinho</td>\n",
       "      <td>NaT</td>\n",
       "      <td>afonsomartinho.png</td>\n",
       "      <td>large_pic_default.jpg</td>\n",
       "      <td>823</td>\n",
       "      <td>24</td>\n",
       "      <td>1.80</td>\n",
       "      <td>Direita</td>\n",
       "      <td>Tanto faz</td>\n",
       "    </tr>\n",
       "    <tr>\n",
       "      <th>4</th>\n",
       "      <td>5</td>\n",
       "      <td>Zé Pedro</td>\n",
       "      <td>José Pedro Bento</td>\n",
       "      <td>NaT</td>\n",
       "      <td>josepedropento.png</td>\n",
       "      <td>large_pic_default.jpg</td>\n",
       "      <td>0</td>\n",
       "      <td>42</td>\n",
       "      <td>1.75</td>\n",
       "      <td>Direita</td>\n",
       "      <td>Tanto faz</td>\n",
       "    </tr>\n",
       "  </tbody>\n",
       "</table>\n",
       "</div>"
      ],
      "text/plain": [
       "   id       name         full_name birthday        picture_path  \\\n",
       "0   1       Luís     Luís Ferreira      NaT    luisferreira.png   \n",
       "1   2  Miguel C.     Miguel Caeiro      NaT    miguelcaeiro.png   \n",
       "2   3      Diogo        Diogo Leão      NaT         diogo_3.png   \n",
       "3   4     Afonso   Afonso Martinho      NaT  afonsomartinho.png   \n",
       "4   5   Zé Pedro  José Pedro Bento      NaT  josepedropento.png   \n",
       "\n",
       "      large_picture_path  ranking_points  ranking_position  height  \\\n",
       "0  large_pic_default.jpg               0                39    1.75   \n",
       "1  large_pic_default.jpg               0                38    1.75   \n",
       "2  large_pic_default.jpg            2162                10    1.81   \n",
       "3  large_pic_default.jpg             823                24    1.80   \n",
       "4  large_pic_default.jpg               0                42    1.75   \n",
       "\n",
       "  prefered_hand prefered_position  \n",
       "0       Direita         Tanto faz  \n",
       "1       Direita         Tanto faz  \n",
       "2       Direita         Tanto faz  \n",
       "3       Direita         Tanto faz  \n",
       "4       Direita         Tanto faz  "
      ]
     },
     "execution_count": 4,
     "metadata": {},
     "output_type": "execute_result"
    }
   ],
   "source": [
    "df = pd.read_sql(\"SELECT * FROM players\", pg_engine)\n",
    "df.head()"
   ]
  },
  {
   "cell_type": "code",
   "execution_count": null,
   "metadata": {},
   "outputs": [],
   "source": []
  }
 ],
 "metadata": {
  "kernelspec": {
   "display_name": ".venv",
   "language": "python",
   "name": "python3"
  },
  "language_info": {
   "codemirror_mode": {
    "name": "ipython",
    "version": 3
   },
   "file_extension": ".py",
   "mimetype": "text/x-python",
   "name": "python",
   "nbconvert_exporter": "python",
   "pygments_lexer": "ipython3",
   "version": "3.11.0"
  }
 },
 "nbformat": 4,
 "nbformat_minor": 2
}
