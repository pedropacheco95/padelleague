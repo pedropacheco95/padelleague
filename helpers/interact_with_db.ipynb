{
 "cells": [
  {
   "cell_type": "code",
   "execution_count": 1,
   "metadata": {},
   "outputs": [
    {
     "name": "stdout",
     "output_type": "stream",
     "text": [
      "Collecting sqlalchemy\n",
      "  Downloading sqlalchemy-2.0.40-cp311-cp311-macosx_11_0_arm64.whl (2.1 MB)\n",
      "\u001b[2K     \u001b[90m━━━━━━━━━━━━━━━━━━━━━━━━━━━━━━━━━━━━━━━━\u001b[0m \u001b[32m2.1/2.1 MB\u001b[0m \u001b[31m27.6 MB/s\u001b[0m eta \u001b[36m0:00:00\u001b[0m00:01\u001b[0m00:01\u001b[0m\n",
      "\u001b[?25hCollecting psycopg2\n",
      "  Downloading psycopg2-2.9.10.tar.gz (385 kB)\n",
      "\u001b[2K     \u001b[90m━━━━━━━━━━━━━━━━━━━━━━━━━━━━━━━━━━━━━━\u001b[0m \u001b[32m385.7/385.7 kB\u001b[0m \u001b[31m31.6 MB/s\u001b[0m eta \u001b[36m0:00:00\u001b[0m\n",
      "\u001b[?25h  Preparing metadata (setup.py) ... \u001b[?25ldone\n",
      "\u001b[?25hCollecting pandas\n",
      "  Using cached pandas-2.2.3-cp311-cp311-macosx_11_0_arm64.whl (11.3 MB)\n",
      "Requirement already satisfied: typing-extensions>=4.6.0 in ./.venv/lib/python3.11/site-packages (from sqlalchemy) (4.13.2)\n",
      "Collecting numpy>=1.23.2\n",
      "  Downloading numpy-2.2.4-cp311-cp311-macosx_14_0_arm64.whl (5.4 MB)\n",
      "\u001b[2K     \u001b[90m━━━━━━━━━━━━━━━━━━━━━━━━━━━━━━━━━━━━━━━━\u001b[0m \u001b[32m5.4/5.4 MB\u001b[0m \u001b[31m55.9 MB/s\u001b[0m eta \u001b[36m0:00:00\u001b[0m00:01\u001b[0m00:01\u001b[0m\n",
      "\u001b[?25hRequirement already satisfied: python-dateutil>=2.8.2 in ./.venv/lib/python3.11/site-packages (from pandas) (2.9.0.post0)\n",
      "Collecting pytz>=2020.1\n",
      "  Using cached pytz-2025.2-py2.py3-none-any.whl (509 kB)\n",
      "Collecting tzdata>=2022.7\n",
      "  Using cached tzdata-2025.2-py2.py3-none-any.whl (347 kB)\n",
      "Requirement already satisfied: six>=1.5 in ./.venv/lib/python3.11/site-packages (from python-dateutil>=2.8.2->pandas) (1.17.0)\n",
      "Installing collected packages: pytz, tzdata, sqlalchemy, psycopg2, numpy, pandas\n",
      "\u001b[33m  DEPRECATION: psycopg2 is being installed using the legacy 'setup.py install' method, because it does not have a 'pyproject.toml' and the 'wheel' package is not installed. pip 23.1 will enforce this behaviour change. A possible replacement is to enable the '--use-pep517' option. Discussion can be found at https://github.com/pypa/pip/issues/8559\u001b[0m\u001b[33m\n",
      "\u001b[0m  Running setup.py install for psycopg2 ... \u001b[?25ldone\n",
      "\u001b[?25hSuccessfully installed numpy-2.2.4 pandas-2.2.3 psycopg2-2.9.10 pytz-2025.2 sqlalchemy-2.0.40 tzdata-2025.2\n",
      "\n",
      "\u001b[1m[\u001b[0m\u001b[34;49mnotice\u001b[0m\u001b[1;39;49m]\u001b[0m\u001b[39;49m A new release of pip available: \u001b[0m\u001b[31;49m22.3\u001b[0m\u001b[39;49m -> \u001b[0m\u001b[32;49m25.0.1\u001b[0m\n",
      "\u001b[1m[\u001b[0m\u001b[34;49mnotice\u001b[0m\u001b[1;39;49m]\u001b[0m\u001b[39;49m To update, run: \u001b[0m\u001b[32;49mpip install --upgrade pip\u001b[0m\n"
     ]
    }
   ],
   "source": [
    "!pip install sqlalchemy psycopg2 pandas"
   ]
  },
  {
   "cell_type": "code",
   "execution_count": null,
   "metadata": {},
   "outputs": [
    {
     "name": "stdout",
     "output_type": "stream",
     "text": [
      "Migrating: divisions\n",
      "Migrating: editions\n",
      "Migrating: leagues\n",
      "Migrating: matches\n",
      "Migrating: news\n",
      "Migrating: order_lines\n",
      "Migrating: orders\n",
      "Migrating: users\n",
      "Migrating: players\n",
      "Migrating: products\n",
      "  ➤ Converting column 'features' to JSON\n",
      "Migrating: players_in_division\n",
      "Migrating: players_in_match\n",
      "Migrating: product_attribute_values\n",
      "Migrating: product_attributes\n",
      "Migrating: product_attribute_values_in_product\n",
      "Migrating: product_attributes_in_product\n",
      "Migrating: product_images\n",
      "Migrating: registrations\n",
      "✅ Migration complete!\n"
     ]
    }
   ],
   "source": [
    "from sqlalchemy import create_engine, MetaData\n",
    "import pandas as pd\n",
    "import json\n",
    "\n",
    "# SQLite source\n",
    "sqlite_engine = create_engine('sqlite:///./database.db')\n",
    "sqlite_metadata = MetaData()\n",
    "sqlite_metadata.reflect(bind=sqlite_engine)\n",
    "\n",
    "user = \"padel_user\"\n",
    "password = \"portopadelleague\"\n",
    "host = \"35.205.246.86\"  # your GCE VM public IP\n",
    "port = \"5432\"\n",
    "database = \"padel_league\"\n",
    "\n",
    "# PostgreSQL destination\n",
    "pg_engine = create_engine(f\"postgresql://{user}:{password}@{host}:{port}/{database}\")\n",
    "\n",
    "# Migrate each table\n",
    "for table_name, table in sqlite_metadata.tables.items():\n",
    "    print(f\"Migrating: {table_name}\")\n",
    "    df = pd.read_sql_table(table_name, sqlite_engine)\n",
    "\n",
    "    # Convert any dict columns to JSON strings\n",
    "    for col in df.columns:\n",
    "        if df[col].apply(lambda x: isinstance(x, dict)).any():\n",
    "            print(f\"  ➤ Converting column '{col}' to JSON\")\n",
    "            df[col] = df[col].apply(lambda d: json.dumps(d) if isinstance(d, dict) else d)\n",
    "\n",
    "    df.to_sql(table_name, pg_engine, if_exists='replace', index=False)\n",
    "\n",
    "print(\"✅ Migration complete!\")\n"
   ]
  },
  {
   "cell_type": "code",
   "execution_count": 5,
   "metadata": {},
   "outputs": [
    {
     "name": "stdout",
     "output_type": "stream",
     "text": [
      "['divisions', 'editions', 'leagues', 'matches', 'news', 'order_lines', 'orders', 'users', 'players', 'products', 'players_in_division', 'players_in_match', 'product_attribute_values', 'product_attributes', 'product_attribute_values_in_product', 'product_attributes_in_product', 'product_images', 'registrations']\n"
     ]
    }
   ],
   "source": [
    "from sqlalchemy import inspect\n",
    "\n",
    "inspector = inspect(pg_engine)\n",
    "tables = inspector.get_table_names()\n",
    "print(tables)"
   ]
  },
  {
   "cell_type": "code",
   "execution_count": null,
   "metadata": {},
   "outputs": [],
   "source": [
    "df = pd.read_sql(\"SELECT * FROM products\", pg_engine)\n",
    "df.head()"
   ]
  }
 ],
 "metadata": {
  "kernelspec": {
   "display_name": ".venv",
   "language": "python",
   "name": "python3"
  },
  "language_info": {
   "codemirror_mode": {
    "name": "ipython",
    "version": 3
   },
   "file_extension": ".py",
   "mimetype": "text/x-python",
   "name": "python",
   "nbconvert_exporter": "python",
   "pygments_lexer": "ipython3",
   "version": "3.11.0"
  }
 },
 "nbformat": 4,
 "nbformat_minor": 2
}
