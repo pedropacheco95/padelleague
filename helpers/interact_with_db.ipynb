{
 "cells": [
  {
   "cell_type": "code",
   "execution_count": 75,
   "metadata": {},
   "outputs": [
    {
     "name": "stdout",
     "output_type": "stream",
     "text": [
      "Requirement already satisfied: sqlalchemy in /Users/pedropacheco1/Documents/Projetos/Sports/Padel League/padelleague/.venv/lib/python3.11/site-packages (1.4.52)\n",
      "Requirement already satisfied: psycopg2 in /Users/pedropacheco1/Documents/Projetos/Sports/Padel League/padelleague/.venv/lib/python3.11/site-packages (2.9.10)\n",
      "Requirement already satisfied: pandas in /Users/pedropacheco1/Documents/Projetos/Sports/Padel League/padelleague/.venv/lib/python3.11/site-packages (2.3.2)\n",
      "Requirement already satisfied: numpy>=1.23.2 in /Users/pedropacheco1/Documents/Projetos/Sports/Padel League/padelleague/.venv/lib/python3.11/site-packages (from pandas) (2.3.3)\n",
      "Requirement already satisfied: python-dateutil>=2.8.2 in /Users/pedropacheco1/Documents/Projetos/Sports/Padel League/padelleague/.venv/lib/python3.11/site-packages (from pandas) (2.9.0.post0)\n",
      "Requirement already satisfied: pytz>=2020.1 in /Users/pedropacheco1/Documents/Projetos/Sports/Padel League/padelleague/.venv/lib/python3.11/site-packages (from pandas) (2025.2)\n",
      "Requirement already satisfied: tzdata>=2022.7 in /Users/pedropacheco1/Documents/Projetos/Sports/Padel League/padelleague/.venv/lib/python3.11/site-packages (from pandas) (2025.2)\n",
      "Requirement already satisfied: six>=1.5 in /Users/pedropacheco1/Documents/Projetos/Sports/Padel League/padelleague/.venv/lib/python3.11/site-packages (from python-dateutil>=2.8.2->pandas) (1.17.0)\n",
      "\n",
      "\u001b[1m[\u001b[0m\u001b[34;49mnotice\u001b[0m\u001b[1;39;49m]\u001b[0m\u001b[39;49m A new release of pip available: \u001b[0m\u001b[31;49m22.3\u001b[0m\u001b[39;49m -> \u001b[0m\u001b[32;49m25.2\u001b[0m\n",
      "\u001b[1m[\u001b[0m\u001b[34;49mnotice\u001b[0m\u001b[1;39;49m]\u001b[0m\u001b[39;49m To update, run: \u001b[0m\u001b[32;49mpip install --upgrade pip\u001b[0m\n"
     ]
    }
   ],
   "source": [
    "!pip install sqlalchemy psycopg2 pandas"
   ]
  },
  {
   "cell_type": "code",
   "execution_count": 76,
   "metadata": {},
   "outputs": [],
   "source": [
    "from sqlalchemy import create_engine, MetaData\n",
    "import pandas as pd\n",
    "import json\n",
    "from sqlalchemy import create_engine, text\n",
    "\n",
    "user = \"padel_user\"\n",
    "password = \"portopadelleague\"\n",
    "host = \"localhost\"  # your GCE VM public IP\n",
    "port = \"5432\"\n",
    "database = \"padel_league\"\n",
    "\n",
    "# PostgreSQL destination\n",
    "pg_engine = create_engine(f\"postgresql://{user}:{password}@{host}:{port}/{database}\")\n"
   ]
  },
  {
   "cell_type": "code",
   "execution_count": 77,
   "metadata": {},
   "outputs": [],
   "source": [
    "def get_all_tables():\n",
    "    \"\"\"\n",
    "    Retrieves a list of all table names in the connected PostgreSQL database.\n",
    "\n",
    "    Returns:\n",
    "        list: A list of table names (str).\n",
    "    \"\"\"\n",
    "    with pg_engine.connect() as connection:\n",
    "        result = connection.execute(text(\"\"\"\n",
    "            SELECT table_name \n",
    "            FROM information_schema.tables \n",
    "            WHERE table_schema = 'public' AND table_type = 'BASE TABLE'\n",
    "        \"\"\"))\n",
    "        tables = [row[0] for row in result.fetchall()]\n",
    "        return tables"
   ]
  },
  {
   "cell_type": "code",
   "execution_count": 78,
   "metadata": {},
   "outputs": [],
   "source": [
    "def get_columns_and_types(table_name: str):\n",
    "    \"\"\"\n",
    "    Retrieves all column names and their data types from a specific table.\n",
    "\n",
    "    Args:\n",
    "        table_name (str): The name of the table.\n",
    "\n",
    "    Returns:\n",
    "        list of tuples: Each tuple contains (column_name, data_type).\n",
    "    \"\"\"\n",
    "    with pg_engine.connect() as connection:\n",
    "        result = connection.execute(text(\"\"\"\n",
    "            SELECT column_name, data_type\n",
    "            FROM information_schema.columns\n",
    "            WHERE table_name = :table\n",
    "        \"\"\"), {\"table\": table_name})\n",
    "        \n",
    "        columns = [(row[0], row[1]) for row in result.fetchall()]\n",
    "        return columns"
   ]
  },
  {
   "cell_type": "code",
   "execution_count": 79,
   "metadata": {},
   "outputs": [],
   "source": [
    "def add_column_to_table(table_name: str, column_name: str, column_type: str):\n",
    "    \"\"\"\n",
    "    Adds a new column to an existing PostgreSQL table.\n",
    "\n",
    "    Args:\n",
    "        table_name (str): The name of the table to modify.\n",
    "        column_name (str): The name of the new column.\n",
    "        column_type (str): The SQL type of the new column (e.g., 'TEXT', 'INTEGER', 'BOOLEAN', etc.).\n",
    "    \"\"\"\n",
    "    with pg_engine.begin() as connection:\n",
    "        # Check if column already exists\n",
    "        check_query = text(f\"\"\"\n",
    "            SELECT column_name \n",
    "            FROM information_schema.columns \n",
    "            WHERE table_name = :table AND column_name = :column\n",
    "        \"\"\")\n",
    "        result = connection.execute(check_query, {\"table\": table_name, \"column\": column_name}).fetchone()\n",
    "\n",
    "        if result:\n",
    "            print(f\"⚠️ Column '{column_name}' already exists in table '{table_name}'.\")\n",
    "        else:\n",
    "            alter_query = text(f'ALTER TABLE \"{table_name}\" ADD COLUMN \"{column_name}\" {column_type}')\n",
    "            connection.execute(alter_query)\n",
    "            print(f\"✅ Added column '{column_name}' of type '{column_type}' to table '{table_name}'.\")\n"
   ]
  },
  {
   "cell_type": "code",
   "execution_count": 80,
   "metadata": {},
   "outputs": [],
   "source": [
    "def fill_column_sequentially(table_name: str, column_name: str):\n",
    "    \"\"\"\n",
    "    Fills a specified column in a table with sequential integer values starting from 1.\n",
    "\n",
    "    Args:\n",
    "        table_name (str): The name of the table.\n",
    "        column_name (str): The name of the column to fill.\n",
    "    \"\"\"\n",
    "    with pg_engine.begin() as connection:\n",
    "        # PostgreSQL-specific SQL using CTE to generate row numbers\n",
    "        update_query = text(f\"\"\"\n",
    "            WITH numbered AS (\n",
    "                SELECT ctid, ROW_NUMBER() OVER () as seq\n",
    "                FROM \"{table_name}\"\n",
    "            )\n",
    "            UPDATE \"{table_name}\" AS t\n",
    "            SET \"{column_name}\" = n.seq\n",
    "            FROM numbered n\n",
    "            WHERE t.ctid = n.ctid\n",
    "        \"\"\")\n",
    "        connection.execute(update_query)\n",
    "        print(f\"✅ Filled column '{column_name}' in table '{table_name}' with sequential values.\")\n"
   ]
  },
  {
   "cell_type": "code",
   "execution_count": 81,
   "metadata": {},
   "outputs": [],
   "source": [
    "def fix_missing_sequences():\n",
    "    \"\"\"\n",
    "    Ensures all tables with an 'id' column have an associated sequence\n",
    "    and sets the default value of the 'id' column to use the sequence.\n",
    "    \"\"\"\n",
    "    tables = get_all_tables()\n",
    "    with pg_engine.begin() as connection:\n",
    "        for table in tables:\n",
    "            # Check if the table has an 'id' column\n",
    "            id_column_check = connection.execute(text(f\"\"\"\n",
    "                SELECT column_name, data_type \n",
    "                FROM information_schema.columns \n",
    "                WHERE table_name = :table AND column_name = 'id'\n",
    "            \"\"\"), {\"table\": table}).fetchone()\n",
    "            \n",
    "            if not id_column_check:\n",
    "                continue\n",
    "\n",
    "            col_name, data_type = id_column_check\n",
    "            if data_type not in ['integer', 'bigint']:\n",
    "                continue  # only process integer/bigint ids\n",
    "\n",
    "            sequence_name = f\"{table}_id_seq\"\n",
    "\n",
    "            print(f\"Fixing sequence for: {table}\")\n",
    "\n",
    "            # Create the sequence if it doesn't exist\n",
    "            connection.execute(text(f\"\"\"\n",
    "                CREATE SEQUENCE IF NOT EXISTS {sequence_name}\n",
    "            \"\"\"))\n",
    "\n",
    "            # Set the default value of the id column to use the sequence\n",
    "            connection.execute(text(f\"\"\"\n",
    "                ALTER TABLE {table} ALTER COLUMN id SET DEFAULT nextval('{sequence_name}')\n",
    "            \"\"\"))\n",
    "\n",
    "            # Set sequence to current MAX(id), or fallback to 1\n",
    "            connection.execute(text(f\"\"\"\n",
    "                SELECT setval('{sequence_name}', GREATEST((SELECT COALESCE(MAX(id), 0) FROM {table}), 1))\n",
    "            \"\"\"))\n",
    "\n",
    "            print(f\"✅ Sequence set for {table}\")\n",
    "        return True"
   ]
  },
  {
   "cell_type": "code",
   "execution_count": 82,
   "metadata": {},
   "outputs": [],
   "source": [
    "def get_all_elements_from_table(table_name, order_by=\"id\", descending=True):\n",
    "    \"\"\"\n",
    "    Retrieves all rows from the specified table in the PostgreSQL database,\n",
    "    optionally ordered by a column.\n",
    "\n",
    "    Args:\n",
    "        table_name (str): The name of the table to retrieve data from.\n",
    "        order_by (str): Column name to order by (default is 'id').\n",
    "        descending (bool): If True, order descending (newest first).\n",
    "\n",
    "    Returns:\n",
    "        list: A list of dictionaries representing rows in the table.\n",
    "    \"\"\"\n",
    "    order_clause = f\"ORDER BY {order_by} {'DESC' if descending else 'ASC'}\"\n",
    "    with pg_engine.connect() as connection:\n",
    "        result = connection.execute(text(f\"SELECT * FROM {table_name} {order_clause}\"))\n",
    "        rows = result.mappings().all()\n",
    "        return rows"
   ]
  },
  {
   "cell_type": "code",
   "execution_count": 83,
   "metadata": {},
   "outputs": [],
   "source": [
    "def delete_elements_with_condition(table_name, column, value):\n",
    "    \"\"\"\n",
    "    Deletes rows from a specified table where a column matches a given value.\n",
    "\n",
    "    Args:\n",
    "        table_name (str): The name of the table.\n",
    "        column (str): The column name to apply the condition.\n",
    "        value (Any): The value to match for deletion.\n",
    "\n",
    "    Returns:\n",
    "        int: Number of rows deleted.\n",
    "    \"\"\"\n",
    "    with pg_engine.begin() as connection:\n",
    "        result = connection.execute(\n",
    "            text(f\"DELETE FROM {table_name} WHERE {column} = :val\"),\n",
    "            {\"val\": value}\n",
    "        )\n",
    "        return result.rowcount"
   ]
  },
  {
   "cell_type": "code",
   "execution_count": 84,
   "metadata": {},
   "outputs": [
    {
     "data": {
      "text/plain": [
       "['alembic_version',\n",
       " 'editions',\n",
       " 'leagues',\n",
       " 'matches',\n",
       " 'order_lines',\n",
       " 'orders',\n",
       " 'imageables',\n",
       " 'divisions',\n",
       " 'players_in_division',\n",
       " 'players_in_match',\n",
       " 'product_attribute_values',\n",
       " 'product_attribute_values_in_product',\n",
       " 'product_attributes',\n",
       " 'product_attributes_in_product',\n",
       " 'product_images',\n",
       " 'registrations',\n",
       " 'products',\n",
       " 'sponsor_clicks',\n",
       " 'users',\n",
       " 'sponsors',\n",
       " 'images',\n",
       " 'players',\n",
       " 'news',\n",
       " 'backend_app']"
      ]
     },
     "execution_count": 84,
     "metadata": {},
     "output_type": "execute_result"
    }
   ],
   "source": [
    "get_all_tables()"
   ]
  },
  {
   "cell_type": "code",
   "execution_count": 11,
   "metadata": {},
   "outputs": [],
   "source": [
    "def delete_null_match_rows(table_name, player_id):\n",
    "    \"\"\"\n",
    "    Deletes a row for a player where match_id and team are null.\n",
    "\n",
    "    Args:\n",
    "        table_name (str): The table name to delete from.\n",
    "        player_id (int): The player ID to match.\n",
    "\n",
    "    Returns:\n",
    "        int: Number of rows deleted.\n",
    "    \"\"\"\n",
    "    with pg_engine.connect() as connection:\n",
    "        result = connection.execute(\n",
    "            text(f\"\"\"\n",
    "                DELETE FROM {table_name}\n",
    "                WHERE player_id = :player_id AND match_id IS NULL AND team IS NULL\n",
    "            \"\"\"),\n",
    "            {\"player_id\": player_id}\n",
    "        )\n",
    "        return result.rowcount\n",
    "    \n",
    "#delete_null_match_rows(\"players_in_match\", 26)"
   ]
  },
  {
   "cell_type": "code",
   "execution_count": 12,
   "metadata": {},
   "outputs": [],
   "source": [
    "#delete_elements_with_condition(\"players_in_match\",'id',6073)"
   ]
  },
  {
   "cell_type": "code",
   "execution_count": 85,
   "metadata": {},
   "outputs": [
    {
     "data": {
      "text/plain": [
       "[{'id': 13, 'title': 'Porto Padel League - Novo Site e Loja Oficial', 'cover_path': 'images/portopadelleague-novositeoficial_13.jpg', 'author': 'Direção Porto Padel League', 'text': '<h1>Porto Padel League inaugura novo site oficial em domínio próprio: <a href=\"https://portopadelleague.com\" target=\"_blank\">portopadelleague.com</a></h1>    <p>É com enorme entusiasmo e um profundo sentido de orgulho que anunciamos o lançamento do <strong>novo portal digital da Porto Padel League</strong>, agora alojado no domínio <span class=\"highlight\">exclusivo e definitivo: portopadelleague.com</span>. Esta não é apenas uma atualização — é uma <strong>reinvenção completa da nossa presença online</strong>, projetada para refletir a ambição, o profissionalismo e a excelência da nossa comunidade.</p>    <p>Este feito extraordinário é o resultado de uma <strong>colaboração interdepartamental sem precedentes</strong>, que uniu mentes brilhantes e talento técnico de várias áreas:</p>    <div class=\"section\">     <ul>       <li><strong>💡 UX Designers</strong>: redesenharam a experiência de navegação para garantir <em>acesso fluido e imediato</em> a toda a informação, com o <strong>mínimo de cliques</strong>.</li>       <li><strong>🎨 Design</strong>: nova identidade cromática, <strong>fontes modernas</strong> e um <strong>logótipo totalmente renovado</strong>, que espelha o dinamismo da liga.</li>       <li><strong>🛠️ DevOps</strong>: aplicação de <em>infraestrutura como código</em>, com <strong>deploys automáticos</strong> e máxima estabilidade.</li>       <li><strong>🧠 Desenvolvimento</strong>: backend redesenhado com uma interface <em>mais visual, intuitiva e poderosa</em>, dispensando acesso ao código para tarefas comuns.</li>       <li><strong>🧬 Data Science & IA</strong>: integração de uma ferramenta capaz de <strong>gerar notícias automaticamente</strong>, elevando a eficiência da comunicação.</li>     </ul>   </div>    <h2>🛍️ A Grande Novidade: A Loja Oficial Está Online!</h2>    <p>Como corolário desta atualização histórica, temos o orgulho de anunciar o lançamento da <strong>Loja Porto Padel League</strong>. Totalmente integrada no novo site, esta secção permite-te <strong>encomendar merchandising oficial</strong> — t-shirts, hoodies, bonés e muito mais.</p>    <p>As encomendas serão entregues pelos responsáveis da liga assim que for atingido o número mínimo de pedidos. Prático, direto e com qualidade garantida.</p>    <div class=\"footer\">     <p>Este novo capítulo digital representa muito mais do que uma simples mudança de domínio: é a <strong>materialização de uma visão ambiciosa</strong> para o futuro da Porto Padel League — uma liga que cresce, que evolui, e que se reinventa continuamente.</p>      <p><strong>Visita já <a href=\"https://portopadelleague.com\" target=\"_blank\">portopadelleague.com</a> e descobre uma experiência à altura da paixão que partilhamos.</strong></p>      <p><em>A era digital da liga começou — e é absolutamente gloriosa.</em></p>   </div>    <p class=\"hashtag\">#PortoPadelLeague #NovoDomínio #NovaEra #ExigênciaMáxima #TecnologiaAoServiçoDoDesporto #SomosLiga #Inovação #MerchOficial #UX #DevOps #AI #DesignDeExcelência</p>', 'latest': False, 'cover_image_id': 166},\n",
       " {'id': 12, 'title': 'Porto Padel League regressa em grande para a sua 16.ª Edição — com 5 Divisões e prémios inéditos', 'cover_path': 'images/portopadelleagueregressaemgrandeparaasua16.aedicao--com5divisoesepremiosineditos_12.jpg', 'author': 'Carlos GPT', 'text': '<h1>Porto Padel League regressa em grande para a sua 16.ª Edição — com 5 Divisões e prémios inéditos! 🍷🔥</h1>    <p><strong>Porto, 22 de abril –</strong> A espera terminou! A <span class=\"highlight\">Porto Padel League</span> está de volta com mais força do que nunca para o seu <strong>1.º Master de Primavera 🌼☀️</strong>. Esta 16.ª edição marca um momento histórico: <span class=\"highlight\">pela primeira vez de sempre, o campeonato contará com CINCO divisões</span>, refletindo o crescimento imparável da comunidade padelista portuense.</p>    <p>Mas as novidades não ficam por aqui… Pela primeira vez na história da liga, <span class=\"highlight\">um patrocinador oficial junta-se à festa</span> e promete elevar a fasquia da competição: <strong>os campeões da 1.ª e 2.ª Divisão receberão uma caixa de vinho exclusiva</strong>, brindando à sua garra e talento dentro de campo! 🍷🏆</p>    <p>A 1.ª jornada arranca esta segunda-feira, <strong>22 de abril, às 21h30 no PAC</strong>, e traz consigo um cartaz de luxo com os nomes mais sonantes da liga. Eis os gladiadores que hoje entram em campo:</p>    <div class=\"section\">     <h2>🥇 1.ª Divisão</h2>     <ul>       <li>Jony</li>       <li>Miguel SG</li>       <li>Bernardo C</li>       <li>Parodi</li>       <li>Fred</li>       <li>Dinis</li>       <li>Dudas</li>       <li>Nuno M</li>     </ul>   </div>    <div class=\"section\">     <h2>🥈 2.ª Divisão</h2>     <ul>       <li>Diogo L</li>       <li>Kikos</li>       <li>Tio Cuca</li>       <li>Malafaya</li>       <li>Talinho</li>       <li>Pancho</li>       <li>Freitas</li>       <li>Archer</li>     </ul>   </div>    <div class=\"section\">     <h2>🥉 3.ª Divisão</h2>     <ul>       <li>Diogo R</li>       <li>Gonçalo PA</li>       <li>Perneta</li>       <li>Fezas</li>       <li>Damásio</li>       <li>Peras</li>       <li>Afonso</li>       <li>Freddy Trepa</li>     </ul>   </div>    <div class=\"section\">     <h2>💥 4.ª Divisão</h2>     <ul>       <li>Zé Livra</li>       <li>Zema</li>       <li>Trepa</li>       <li>Fred</li>       <li>Rodas</li>       <li>Tomás D</li>       <li>Zé Santos</li>       <li>Ricas</li>     </ul>   </div>    <div class=\"section\">     <h2>🚀 5.ª Divisão</h2>     <ul>       <li>Tomás P</li>       <li>Martinho</li>       <li>Lopo S</li>       <li>Tó Lencastre</li>       <li>Hugo M</li>       <li>Rafael P</li>       <li>Afonso X</li>       <li>Luis Folhadela</li>     </ul>   </div>    <p class=\"footer\"><strong>Com mais divisões, mais talento, mais rivalidade e, agora, mais prémios, a Padel League 16.ª Edição promete ser a mais épica de sempre.</strong></p>   <p class=\"footer\">Quem terá nervos de aço para levantar o troféu e brindar à vitória?</p>   <p class=\"footer\"><em>Que comece o espetáculo. Vamos à bola. Vamos ao padel. Vamos à glória. 💪🎾🍷</em></p>', 'latest': False, 'cover_image_id': 171},\n",
       " {'id': 11, 'title': 'Parceria Histórica – Porto Padel League e Quinta da Sardinha de Cima', 'cover_path': 'images/parceriahistorica-portopadelleagueequintadasardinhadecima_11.jpg', 'author': 'Direção da Porto Padel League', 'text': '<h1>Um marco na história da Porto Padel League</h1>   <p class=\"highlight\">     É com profundo orgulho e sentido de ocasião que anunciamos a primeira parceria oficial da nossa liga!   </p>    <div class=\"section\">     <span class=\"emoji\">🍷</span>     <strong>Quinta da Sardinha de Cima</strong> junta-se a nós como patrocinador institucional, elevando esta competição a um novo patamar de distinção.   </div>    <div class=\"section\">     <span class=\"emoji\">🎾</span>     Ao talento e à rivalidade saudável dos nossos atletas, junta-se agora o prestígio de uma marca que personifica elegância, tradição e excelência.   </div>    <div class=\"section\">     <span class=\"emoji\">🏆</span>     Aos vencedores da 1ª e da 2ª Divisão será entregue uma caixa triunfal com três magníficas garrafas de um rosé sublime, símbolo líquido da excelência e da celebração — cortesia da Quinta da Sardinha de Cima.   </div>    <div class=\"section\">     <span class=\"emoji\">🎁</span>     E porque esta parceria é também para a comunidade que constrói a liga todos os dias, todos os jogadores e familiares terão acesso a <strong>17% de desconto</strong> na loja da marca.     <div class=\"code-box\">       Código: <strong>PLPortoQSC</strong><br />       Site: <a href=\"/sponsors/sponsor_click/2\">https://qscima.com/</a>     </div>   </div>    <div class=\"section\">     Esta é mais do que uma colaboração.<br />     <strong>É o início de uma nova era.</strong>   </div>    <footer>     Bem-vindos à <em>Porto Padel League – Powered by Quinta da Sardinha de Cima</em>   </footer>', 'latest': True, 'cover_image_id': 164},\n",
       " {'id': 10, 'title': 'A Incrível Ressurreição de João Archer: Quando as Lendas do Padel Se Criam', 'cover_path': 'images/aincrivelressurreicaodejoaoarcher:quandoaslendasdopadelsecriam_10.jpg', 'author': 'Carlos GPT', 'text': '<div>   <style>     h1, h2, h3 {       font-family: \\'Arial\\', sans-serif;       color: #2C3E50;     }     p {       font-family: \\'Georgia\\', serif;       color: #34495E;       font-size: 16px;       line-height: 1.6;     }     .highlight {       color: #E74C3C;       font-weight: bold;     }     .winner {       background-color: #27AE60;       color: white;       padding: 5px 10px;       border-radius: 5px;     }   </style>    <h1>Padel League Porto: Quando Se Apanham Bolas e Se Perdem Pontos</h1>    <h2>Divisão 1: Semelhe no Olimpo, Dudas No Limbo</h2>   <p>Comecemos pelo topo, porque é sempre bom recordar que o <span class=\"highlight\">Semelhe</span> já não compete com os outros, mas sim com a divindade. Com 27 pontos, este líder carismático está a jogar \"à grande e à francesa\", com um desempenho que faz pensar que joga de olhos fechados. Já o <span class=\"highlight\">Dudas</span>, continua firmemente no fundo da tabela. Consta-se que a sua raquete está em fase de reconciliação com as bolas, mas o divórcio parece iminente, sem pontuar.</p>   <p>Resultados da última jornada? Zé Veiga e Fred empataram com <span class=\"highlight\">Cuca e Semelhe</span> (0-0), enquanto <span class=\"highlight\">Miguel SG</span> e Dudas perderam gloriosamente para <span class=\"highlight\">Malafaya e João Perneta</span>. Será que Dudas alguma vez pontuará? Não há casas de apostas abertas para isso.</p>      <h3>Parelhas Próxima Jornada - Divisão 1</h3>   <ul>     <li>Dudas & Miguel SG</li>     <li>Malafaya & João Perneta</li>     <li>Cuca & Semelhe</li>     <li>Zé Veiga & Fred</li>   </ul>   <p>Previsão? O <span class=\"highlight\">Semelhe</span> vai, previsivelmente, ganhar e o <span class=\"highlight\">Dudas</span> vai, previsivelmente, perder.</p>    <h2>Divisão 2: Kikos Impera, Bernardo Surpreende</h2>   <p>Se há uma coisa que o <span class=\"highlight\">Kikos</span> não faz é brincar. A liderança com 22 pontos deixa todos com as favas contadas, mas o <span class=\"highlight\">Bernardo C</span> fez questão de mostrar que não vai ser pêra doce para o líder. Uma vitória apertada contra <span class=\"highlight\">Freitas</span> mostra que não está aqui só para passear a raquete.</p>   <p>Na próxima jornada, <span class=\"highlight\">Gonçalo PA e Kikos</span> vão tentar puxar a brasa à sua sardinha contra <span class=\"highlight\">Carlo e Dinis</span>. Espera-se um jogo difícil para os desafiantes, porque o Kikos não dá espaço para deslizes.</p>    <h3>Parelhas Próxima Jornada - Divisão 2</h3>   <ul>     <li>Pêras & Pancho</li>     <li>Gonçalo PA & Kikos</li>     <li>Carlo & Dinis</li>     <li>Freitas & Bernardo C</li>   </ul>   <p>Previsão? <span class=\"highlight\">Kikos</span> mantém-se firme e o <span class=\"highlight\">Bernardo C</span> pode surpreender mais uma vez.</p>    <h2>Divisão 3: Damásio e Diogo, Reis Temporários?</h2>   <p>O <span class=\"highlight\">Damásio</span> chegou aos 30 pontos e parece que vai deixar os outros a lutar pelos restos. Já o <span class=\"highlight\">Diogo</span>, com 24 pontos, resolveu tirar a semana de folga e não pontuou, o que pode colocar em risco a sua coroa.</p>   <p>O jogo entre <span class=\"highlight\">Ricas e Diogo</span> contra <span class=\"highlight\">Bucas e Talinho</span> promete ser um festival de sarcasmo e oportunidades desperdiçadas. Quem ganhará? Isso só as bolas de cristal poderão dizer.</p>    <h3>Parelhas Próxima Jornada - Divisão 3</h3>   <ul>     <li>Tomás & Damásio</li>     <li>Zema & Rodas</li>     <li>Ricas & Diogo</li>     <li>Bucas & Talinho</li>   </ul>   <p>Previsão? O <span class=\"highlight\">Damásio</span> continua no topo e o <span class=\"highlight\">Diogo</span> pode finalmente acordar.</p>    <h2>Divisão 4: Nuno Machado - O Ditador da Divisão 4</h2>   <p><span class=\"highlight\">Nuno Machado</span> é o tirano supremo, com uns gordos 33 pontos. O <span class=\"highlight\">Afonso</span>, por outro lado, tem ainda a difícil missão de lutar pelo segundo lugar. Curiosamente, o <span class=\"highlight\">João Archer</span> deu sinais de vida, somando 9 pontos e provando que afinal a esperança é a última a morrer, mesmo que a técnica seja a primeira.</p>      <h3>Parelhas Próxima Jornada - Divisão 4</h3>   <ul>     <li>Jonny & Nuno Machado</li>     <li>Dias & Pipo</li>     <li>Pi Magalhaes & João Archer</li>     <li>Trepa & Afonso</li>   </ul>   <p>Previsão? O <span class=\"highlight\">Nuno Machado</span> vai continuar a espalhar o terror, enquanto os outros tentam não tropeçar nos próprios pés.</p>    <h2>Grandes Vencedores da Jornada Segundo Carlos GPT</h2>   <ul>     <li><span class=\"winner\">Divisão 1:</span> Semelhe - Porque vencer, para ele, é como respirar.</li>     <li><span class=\"winner\">Divisão 2:</span> Bernardo C - Uma subida inesperada que até assustou o Kikos.</li>     <li><span class=\"winner\">Divisão 3:</span> Damásio - Porque 30 pontos não se discutem.</li>     <li><span class=\"winner\">Divisão 4:</span> João Archer - A maior surpresa da semana, com uma recuperação miraculosa.</li>   </ul> </div>', 'latest': False, 'cover_image_id': 172},\n",
       " {'id': 9, 'title': 'Os Imperadores do Padel: A Ascensão de Gigantes e a Queda de Mortais na Segunda Jornada', 'cover_path': 'images/osimperadoresdopadel:aascensaodegiganteseaquedademortaisnasegundajornada_9.jpg', 'author': 'Carlos GPT', 'text': '<div>   <style>     body {       font-family: Arial, sans-serif;       color: #333;       line-height: 1.6;     }     h1, h2, h3 {       color: #0056b3;     }     .highlight {       background-color: #ffeb3b;     }   </style>    <h1>Padel League Porto: Entre a Glória e o Desespero</h1>    <h2>Divisão 1: Miguel SG, o Meteoro da Semana</h2>   <p>Na Divisão 1, Miguel SG foi o grande destaque da semana. Com uma performance avassaladora de 9.0 pontos, deixou todos de boca aberta. Fred, apesar de partilhar os mesmos 9.0 pontos totais, mostrou-se inconsistente, acumulando apenas 4.5 pontos por jornada. Semelhe, como seria de esperar, mantém-se firme no topo com 15.0 pontos, mas parece ter abrandado ligeiramente. Já Dudas, coitado, continua sem pontuar, solidificando o seu lugar como o eterno 8º.</p>    <h3>Parelhas Próxima Jornada - Divisão 1</h3>   <p>Dudas & Fred</p>   <p>Cuca & Malafaya</p>   <p>Semelhe & João Perneta</p>   <p>Miguel SG & Zé Veiga</p>    <p><strong>Previsão:</strong> Miguel SG e Semelhe são os favoritos da próxima jornada, mas Fred terá de se esforçar se quiser escapar da sombra do meteoro Miguel.</p>    <h2>Divisão 2: Kikos no Topo, Bernardo em Queda</h2>   <p>Kikos continua a dominar a Divisão 2 com uns robustos 15.0 pontos, enquanto Pancho, Dinis e Gonçalo PA estão todos a lutar pelo segundo lugar, empatados com 10.0 pontos. A grande surpresa (ou desilusão) da jornada foi Bernardo C, que não conseguiu pontuar, mantendo-se com 6.0 pontos. Freitas, por sua vez, ainda luta pela sobrevivência com 5.0 pontos, mas terá de melhorar se quiser sair do fundo da tabela.</p>    <h3>Parelhas Próxima Jornada - Divisão 2</h3>   <p>Freitas & Carlo</p>   <p>Gonçalo PA & Pancho</p>   <p>Bernardo C & Dinis</p>   <p>Kikos & Pêras</p>    <p><strong>Previsão:</strong> Kikos continuará a sua caminhada de glória, enquanto Bernardo C precisa urgentemente de uma vitória para não perder o ritmo dos primeiros lugares.</p>    <h2>Divisão 3: Damásio e Diogo, Os Reis Temporários</h2>   <p>Damásio e Diogo continuam a partilhar o trono da Divisão 3, ambos com 15.0 pontos, enquanto o pelotão atrás deles luta para não perder o contacto. Tomás, Rodas e Talinho, com 10.0 pontos cada, mantêm-se competitivos, mas Zema e Ricas parecem estar a disputar entre si o título de pior jogador da divisão, com 4.0 e 0.0 pontos respetivamente.</p>    <h3>Parelhas Próxima Jornada - Divisão 3</h3>   <p>Bucas & Zema</p>   <p>Tomás & Diogo</p>   <p>Damásio & Ricas</p>   <p>Talinho & Rodas</p>    <p><strong>Previsão:</strong> Damásio e Diogo estão imparáveis, mas a verdadeira luta será entre Tomás, Talinho e Rodas para ver quem consegue aproximar-se dos líderes.</p>    <h2>Divisão 4: Nuno Machado, o Tirano da Quarta Divisão</h2>   <p>Nuno Machado continua a ser a força dominante na Divisão 4, liderando com 15.0 pontos e uma performance que faz tremer os adversários. Trepa mantém-se no segundo lugar com 10.0 pontos, enquanto Afonso segue de perto com 9.0. Joao Archer, por outro lado, ainda não conseguiu pontuar, continuando na lanterninha da classificação com 0.0 pontos.</p>    <h3>Parelhas Próxima Jornada - Divisão 4</h3>   <p>Joao Archer & Dias</p>   <p>Pi Magalhaes & Pipo</p>   <p>Nuno Machado & Afonso</p>   <p>Jonny & Trepa</p>    <p><strong>Previsão:</strong> Nuno Machado continua a ser o grande favorito, mas Trepa e Afonso vão certamente tentar complicar-lhe a vida. Joao Archer só espera conseguir finalmente um ponto.</p>    <h2>Grandes Vencedores da Jornada Segundo Carlos GPT</h2>   <p><span class=\"highlight\">Divisão 1:</span> Miguel SG. Numa exibição de pura classe, acumulou 9.0 pontos e mostrou que está aqui para incomodar os líderes.</p>   <p><span class=\"highlight\">Divisão 2:</span> Kikos. Continua inabalável no topo, não dando hipótese aos seus adversários.</p>   <p><span class=\"highlight\">Divisão 3:</span> Damásio e Diogo. Juntos, continuam a dominar a divisão sem dar espaço para surpresas.</p>   <p><span class=\"highlight\">Divisão 4:</span> Nuno Machado. A sua liderança é inquestionável e continua a fazer tremer os adversários.</p> </div>', 'latest': False, 'cover_image_id': 167},\n",
       " {'id': 8, 'title': 'Rumo ao Pódio: A Odisseia Semanal da Padel League Porto', 'cover_path': 'images/rumoaopodio:aodisseiasemanaldapadelleagueporto_8.jpg', 'author': 'Carlos GPT', 'text': '<div>   <style>     .headline {       font-size: 24px;       font-weight: bold;       margin-top: 20px;     }     .subheadline {       font-size: 18px;       font-weight: bold;       margin-top: 15px;       color: darkred;     }     .content {       font-size: 16px;       margin-top: 10px;     }     .highlight {       font-style: italic;       font-weight: bold;     }     .conclusion {       font-weight: bold;       font-size: 18px;       margin-top: 20px;     }   </style>    <div class=\"headline\">Rumo ao Pódio: A Odisseia Semanal da Padel League Porto</div>    <div class=\"content\">     Chegámos à primeira jornada da nossa amada Padel League Porto, e, como sempre, a vida não dececiona: grandes vitórias, derrotas humilhantes e um punhado de performances que nos fazem perguntar se alguns destes atletas vêm mesmo para jogar ou apenas para apanhar sol. Vamos então ao resumo da jornada, onde a bola até pode não ter memória, mas nós temos... e estamos aqui para lembrar tudo.   </div>    <div class=\"subheadline\">Divisão 1: Semelhe, o Todo-Poderoso... e os Outros</div>      <div class=\"content\">     Semelhe, o homem que já nasceu com uma raquete na mão, continua a sua epopeia ininterrupta. Venceu tudo e todos, acumulando um colossal total de 9 pontos, uma performance tão irrepreensível que até os adversários desistem a meio. Desta vez, esmagou Miguel SG com um 12-0 que deixou os espectadores a perguntar se o Miguel ainda tem força para voltar na próxima semana.     <br><br>     Nos restantes jogos, Malafaya e Zé Veiga tentaram encurtar a distância para o trono, mas a verdade é que a diferença é tão abismal que até o Dudas, que ainda está para pontuar, se sentiu mais próximo do topo. Quanto ao João Perneta, fiel ao seu nome, pernetou para o 4º lugar. Um empate? Talvez, mas a distância para Semelhe é igual à das obras de Santa Engrácia.   </div>    <div class=\"subheadline\">Divisão 2: Um Mar de Empates e Gritos de Esperança</div>    <div class=\"content\">     A 2ª divisão trouxe-nos algo que só poderíamos chamar de “batalha de teimosos”. Todos querem, ninguém consegue. Bernardo C, Dinis, Gonçalo PA e Kikos, todos eles com 6 pontos, encheram as quadras de suores e dores musculares. O Bernardo C, que caiu da 1ª divisão, já começa a perceber que o nível cá em baixo não é pêra doce.     <br><br>     A dupla Freitas e Pancho, pelo contrário, andou résvés Campo de Ourique a somar pontos, terminando com um palpitante 1-1. Um jogo onde se conseguiu a façanha de empatar até nos erros.   </div>    <div class=\"subheadline\">Divisão 3: Drama, Surpresas e Zero Glória</div>      <div class=\"content\">     A história aqui é simples: Damásio e Diogo continuam a sua caminhada triunfal, mas não sem drama. Venceram, sim, mas foi um 6-5 que lhes deve ter custado meses de vida. Talinho e Tomás, por sua vez, não perderam a esperança. Não venceram, mas também não são últimos. Ricas e Bucas, no entanto, proporcionaram-nos um espetáculo raro: perderam e empataram na mesma jornada, num 0-0 de fazer qualquer adepto questionar o propósito da vida.     <br><br>     Zema? Bem, ele continua sem pontuar. Se há algo certo nesta liga é que o Zema é o eterno 8º lugar. Pode não ser o melhor, mas pelo menos é consistente.   </div>    <div class=\"subheadline\">Divisão 4: Afonso e os Pobres Mortais</div>    <div class=\"content\">     Afonso passeou-se pela 4ª divisão como um rei numa procissão. Com 9 pontos no bolso, não houve Trepa ou Pipo que lhe fizesse frente. Quem também andou bem foram Nuno Machado e Pi Magalhães, que tentaram, sem sucesso, destronar o líder. No entanto, Pi até se saiu melhor que o Jonny e o João Archer, que continuam sem somar um único ponto. Jonny, em particular, parece estar mais empenhado em reformar-se do que em jogar, tal o desempenho apático que nos proporcionou.   </div>    <div class=\"conclusion\">Grandes Vencedores da Jornada segundo Carlos GPT</div>    <div class=\"content\">     O prémio de maior vencedor da jornada vai, sem surpresas, para <span class=\"highlight\">Semelhe</span> na 1ª divisão, que continua a não dar hipótese a ninguém. Já na 4ª divisão, <span class=\"highlight\">Afonso</span> domina como um verdadeiro deus do padel, enquanto na 2ª divisão, <span class=\"highlight\">Bernardo C</span> lidera um pelotão de empatados que ainda não percebeu que o empate não é vitória. E claro, não podemos esquecer <span class=\"highlight\">Damásio</span> e <span class=\"highlight\">Diogo</span>, que na 3ª divisão fazem a sua caminhada de sobrevivência, agarrados ao topo com unhas e dentes.   </div>  </div>', 'latest': False, 'cover_image_id': 169},\n",
       " {'id': 7, 'title': 'Que comece o espetáculo: As primeiras duplas da 12ª Edição da Padel League Porto', 'cover_path': 'images/quecomeceoespetaculo:asprimeirasduplasda12aedicaodapadelleagueporto_7.jpg', 'author': 'Carlos GPT', 'text': '<div style=\"font-family: Arial, sans-serif; line-height: 1.6; color: #333;\">     <h2 style=\"color: #2c3e50;\">Que comece o espetáculo: A 12ª Edição da Padel League Porto está no ar!</h2>      <p style=\"font-size: 14px; color: #7f8c8d;\">Porto, 17 de setembro de 2024</p>      <p><strong>Outono chegou e, com ele, a 12ª edição da gloriosa Padel League Porto!</strong> Este torneio, mais amado do que pastel de nata acabado de sair do forno, está de volta, maior e mais confuso do que nunca. Se nas edições anteriores já tínhamos drama e competitividade ao rubro, este ano acrescentamos uma pitada extra de caos: 8 novos guerreiros do padel, uma divisão extra para dar mais dores de cabeça, e um novo templo para os nossos deuses de raquete, o ilustre Porto Athletic Club (PAC).</p>      <h3 style=\"color: #2980b9;\">Uma Liga Maior... e Mais Confusa!</h3>      <p>O crescimento, como sabem, vem sempre com os seus espinhos. Nesta edição, os organizadores, esses santos padelistas que nos aturam, enfrentaram a dura realidade de que nem todos os jogadores sabem ler (ou, pelo menos, responder a sondagens). As inscrições foram um desafio digno de Hércules, com os atletas a contribuírem para a confusão ao ignorarem essas \"triviais\" formalidades. Mas, apesar de tudo, a edição de outono de 2024 vai arrancar com 32 guerreiros prontos a suar a camisola.</p>      <h3 style=\"color: #2980b9;\">1ª Divisão: Os Campeões Voltaram... ou Não?</h3>      <p><em>Duplas:</em></p>     <ul>         <li><strong>Miguel SG & João Perneta</strong></li>         <li><strong>Malafaya & Zé Veiga</strong></li>         <li><strong>Cuca & Fred</strong></li>         <li><strong>Dudas & Semelhe</strong></li>     </ul>      <p>A 1ª divisão traz consigo a pompa dos campeões, mas já começamos com duas baixas: Dudas e o tio Cuca, esses astros do padel, decidiram que a primeira jornada não era digna da sua presença. Os restantes, incluindo o Zé e o Perneta, prontos para o seu primeiro duelo desde a sua promoção, vão carregar o facho e tentar manter a glória da divisão.</p>      <h3 style=\"color: #2980b9;\">2ª Divisão: A Divisão dos Pontuais</h3>      <p><em>Duplas:</em></p>     <ul>         <li><strong>Kikos & Dinis</strong></li>         <li><strong>Carlo & Pêras</strong></li>         <li><strong>Freitas & Pancho</strong></li>         <li><strong>Gonçalo PA & Bernardo C</strong></li>     </ul>      <p>Surpreendentemente, a 2ª divisão, sempre vista como a irmã do meio da liga, é a única a apresentar-se em pleno. Todos os gladiadores estão prontos para a batalha! Bernardo Castro, que desceu da 1ª divisão, procura redimir-se, enquanto Pêras e Dinis, recentemente promovidos, querem provar que não estão aqui para brincar.</p>      <h3 style=\"color: #2980b9;\">3ª Divisão: A Estável, com Uma Pequena Ausência</h3>      <p><em>Duplas:</em></p>     <ul>         <li><strong>Damásio & Rodas</strong></li>         <li><strong>Zema & Ricas</strong></li>         <li><strong>Bucas & Diogo</strong></li>         <li><strong>Tomás & Talinho</strong></li>     </ul>      <p>Na 3ª divisão, todos menos o Bucas estão prontos para a ação. Uma divisão sólida, mas será que a falta do Bucas será o desequilíbrio necessário para criar algum drama? Veremos.</p>      <h3 style=\"color: #2980b9;\">4ª Divisão: O Reino dos Retornados</h3>      <p><em>Duplas:</em></p>     <ul>         <li><strong>João Archer & Afonso</strong></li>         <li><strong>Trepa & Dias</strong></li>         <li><strong>Jonny & Pipo</strong></li>         <li><strong>Pi Magalhães & Nuno Machado</strong></li>     </ul>      <p>A divisão mais recente e, sem dúvida, a mais aleatória de todas. Com o regresso de caras bem conhecidas como Afonso, Jonny e Pipo, esta divisão promete surpresas. João Archer e Jonny, no entanto, decidiram que esta jornada não merece a sua estreia.</p>      <p>Assim se inicia mais uma jornada épica da Padel League Porto! Que os deuses do padel estejam convosco... e que respondam às sondagens da próxima vez!</p>      <p style=\"font-style: italic; font-size: 12px;\">Até à próxima, caros leitores! Que o padel esteja sempre convosco... e que os vossos smashes sejam tão certeiros como as piadas do Carlos! 🎾</p> </div>', 'latest': False, 'cover_image_id': 173},\n",
       " {'id': 6, 'title': 'Odisseia das Raquetes: Deuses e Mortais na Alvorada da 7ª Padel League Porto', 'cover_path': 'images/odisseiadasraquetes:deusesemortaisnaalvoradada7apadelleagueporto_6.jpg', 'author': 'Carlos GPT', 'text': '<style> .date {         font-weight: bold;     }       .highlighted {         color: #444; /* Dark gray color */         font-weight: bold;     }      .signature {         text-align: right;         font-style: italic;         margin-top: 2rem;     } </style> <p class=\"date\">Porto, 11 de outubro de 2023</p> <article class=\"news-article\">     <h3>A Epopeia Recomeça: Ascensões e Quedas no Divino Jogo do Padel</h3>     <p>Ah, o esplendoroso palco da Padel League Porto desdobra-se uma vez mais, e eis que as cortinas se alçam para a 7ª Edição desta grandiosa ópera desportiva. Dudas Brito, ou deveríamos dizer Faro, uma entidade única de talento bifurcado, está prestes a navegar mais uma vez pelo oceano de borracha e rede. Será que sua bússola apontará para a vitória ou o arrastará para o triângulo das Bermudas da segunda divisão?</p>     <p>Neste interlúdio de deuses e mortais, Jony Magalhães, o colosso da última temporada, não é menos que Zeus no Olimpo do padel. Seu raio, uma raquete imparável; seu trovão, o eco de vitórias passadas. Mas o Olimpo não é só feito de néctar e ambrosia; a pressão de repetir tais feitos é o seu novo némesis.</p>     <p>Na arena dos aspirantes, temos um caldeirão de esperanças e sonhos desfeitos, onde Pipo e Peras, nossos infelizes heróis, vão tentar não ser os últimos da fila no baile do padel. E que dizer de Filipe, o Grande Ausente, que mais faltou do que compareceu, numa estratégia que alguns poderiam confundir com genialidade, mas que outros chamariam simplesmente de... preguiça?</p>     <p>Pancho, agora na companhia do recém-chegado Lopo, terá que dançar a dança dos que lutam para não se afogar em um mar de mediocridade. E que maré alta os espera!</p>     <p>Ah, mas a ironia da vida padelística é que, por mais altos que sejam os saltos e por mais espetaculares que sejam as jogadas, no final, todos servem sob a mesma lona do circo. E assim, caros leitores, apertem os vossos cintos, pois a bola vai voar, as raquetes vão cantar, e o sagrado jogo do Padel continuará a nos surpreender, a nos divertir e, certamente, a nos confundir, enquanto nos perguntamos: “Mas afinal, quem deixou estes palhaços no campo?”</p>     <p class=\"signature\">Assina, com uma pena imbuída de tinta irônica e um sorriso dissimulado nos lábios, Carlos GPT, o cronista inigualável da Padel League Porto.</p> </article>', 'latest': False, 'cover_image_id': 176},\n",
       " {'id': 5, 'title': 'Guerras e Paz no Palco Sutil da Dramática Padelândia', 'cover_path': 'images/guerrasepaznopalcosutildadramaticapadelandia_5.jpg', 'author': 'Carlos GPT', 'text': '<style>     .date {         font-weight: bold;     }      .highlighted {         color: #444; /* Dark gray color */         font-weight: bold;     } </style> <p class=\"date\">Porto, 11 de outubro de 2023</p>     <h3>A Dança Intrigante dos Deuses Padelísticos: Dudas e João Perneta</h3>     <p>Ah, os deuses nos oferecem um espetáculo! Dudas e João Perneta, criaturas elevadas de um reino onde as raquetes tocam o céu, continuam a surpreender-nos com suas proezas e suas desventuras. Dudas, que celebrou seu aniversário no passado domingo, dia 8 de outubro, com um desempenho constante, embora não isento de suas próprias calamidades, move-se com uma certa majestade adquirida através das tempestades e bonanças de sua carreira. E o João Perneta, cujas partituras soam ora um requiem, ora uma ode à vitória, provoca-nos a pensar: será que os deuses riem e choram tal qual os homens?</p>      <h3>As Glórias e os Desastres do Panteão Secundário: Malafaya</h3>     <p>Aqui, na segunda divisão, as almas mais mortais jogam, mas oh, que espetáculo eles também nos oferecem! Malafaya, como o soberano de um domínio por vezes esquecido, carrega o manto da liderança. Não sabemos se os deuses o favorecem ou se ele, em sua sábia humanidade, encontrou a fórmula secreta para ambrosia que o alimenta na batalha. Seu desempenho sereno deixa-nos a pensar, o que vale mais, a paz na vitória ou a paixão na derrota?</p>      <h3>Sob as Asas de Ícaro: Pipo e Pancho em Queda Livre</h3>     <p>Ah, os pobres Pipo e Pancho! Foram eles tocados pela ira divina ou simplesmente cruzaram os céus demasiadamente perto do sol? Pipo, com a sua modesta pontuação, talvez nos lembre de que, mesmo no Olimpo, há lágrimas. E Pancho, ah! A sua trajetória flutuante faz-nos questionar: será que os deuses, em sua infinita sabedoria e crueldade, já determinaram o seu destino, ou haverá espaço para redenção nas quadras divinas?</p>      <h3>O Coro dos Substitutos: Harmonia ou Desafinação?</h3>     <p>E quem poderia esquecer os substitutos, aqueles cujas sombras sussurram na liga e cujas presenças, quando manifestas, trazem tanto o caos quanto a ordem? Eles, na sua existência pendente, lembram-nos de que mesmo os deuses precisam de uma pausa, e quem somos nós para negar aos mortais a chance de brilhar... ou de implodir?</p>      <h3>A Lamentação da Alma Padelística</h3>     <p>Cada embate, cada riso, cada soluço nesse vasto universo padelístico desenha um quadro mais vasto e profundo do que a simples disputa de pontos e posições. Aqui, ó leitores, testemunhamos a tragicomédia da existência humana, orquestrada nos saltos, nas bolas fora, nos triunfos e nos deslizes.</p>      <p>A crítica, caros amantes do padel, é, portanto, dirigida não apenas aos jogadores, mas aos próprios deuses que orquestram tais eventos. E nos perguntamos: numa liga tão deliciosamente complexa e caótica, não somos todos, em nossa humana imperfeição, dignos tanto do aplauso quanto da reprimenda?</p>      <p>Assim, olhamos para frente, na esperança e no temor do que está por vir, sabendo que cada ponto ganho e perdido é mais um verso na odisseia eterna dos deuses e dos homens na sagrada arte do Padel.</p>', 'latest': False, 'cover_image_id': 168},\n",
       " {'id': 4, 'title': 'Duelos e Duetos de uma Dança Padelística', 'cover_path': 'images/dueloseduetosdeumadancapadelistica_4.jpg', 'author': 'Carlos GPT', 'text': '<style>     .date {         font-weight: bold;     }      .highlighted {         color: #444; /* Dark gray color */         font-weight: bold;     } </style> <div id=\"padelLeague\">     <p class=\"date\">Porto, 27 de setembro de 2023</p>     <h3>Crónica de uma Jornada de Altos e Baixos na Padel League Porto</h3>     <p>O palco do nosso adorado padel continua a acolher verdadeiras odisseias onde a coragem e a comédia se entrelaçam numa dança inebriante, entre voos de raquetes e bailes de bolas.</p>          <h3>O Virtuoso João Perneta e as Divagações de Dudas</h3>     <p><span class=\"highlighted\">João Perneta</span>, o maestro da pacificidade, voltou a encantar, fazendo os muros aplaudirem em harmonia. Este maestro do padel, com <strong>22 pontos</strong>, demonstrou novamente que é possível dançar na tempestade e, ainda assim, arrancar uma vitória por 8-7 contra Dudas e Carlo, fazendo soar as mais belas notas desta sinfonia padelística.</p>     <p>Mas, neste balé, Dudas divagou como um verdadeiro Platão, entremeando reflexões filosóficas com golpes de génio, deixando-nos a contemplar, não só a beleza do jogo mas também as profundezas do universo padelístico.</p>          <h3>A Sabedoria de Cuca e as Maravilhas de Miguel SG</h3>     <p><span class=\"highlighted\">Cuca</span>, o sábio venerável, juntou forças com <span class=\"highlighted\">Miguel SG</span>, criando um dueto onde a harmonia e a poesia da bola reinaram supremas. Com a experiência de <span class=\"highlighted\">Cuca</span> e a sublime colocação de bola de <span class=\"highlighted\">Miguel</span>, conquistaram uma vitória emocionante de 8-7 contra Dudas e Carlo, revelando a poesia oculta no coração do padel.</p>          <h3>Malafaya: O Estratega da Segunda Divisão e Pipo no caminho da sombra à luz</h3>     <p>Na encantadora segunda divisão, <span class=\"highlighted\">Malafaya</span>, o astuto canhoto, continua a demonstrar a arte suprema do padel, ensinando-nos, a cada jogada, o verdadeiro significado da estratégia e da sabedoria neste nosso pequeno universo.</p>     <p><span class=\"highlighted\">Pipo</span>, partindo de um início de liga sem pontos, protagonizou, juntamente com Pancho, um ressurgimento épico esta jornada. Eles quebraram a invencibilidade de <span class=\"highlighted\">Malafaya</span> e impuseram um 11-2 a Pêras e Filipe, somando <strong>6 pontos valiosos</strong>. Este notável volte-face parece ecoar as sábias palavras de Jesus: \"Os últimos serão os primeiros\", mostrando que, no campo de padel, a determinação e a resiliência podem, de facto, reverter os papéis e trazer à luz verdadeiros momentos de glória.</p>          <h3>O Clímax e os Protagonistas da Jornada</h3>     <p>Aos que demonstraram uma paixão e maestria incomparáveis, como <span class=\"highlighted\">João Perneta</span> e <span class=\"highlighted\">Malafaya</span>, rendemos nossos mais calorosos aplausos e os consagramos como <em>\\'Grandes Vencedores da Jornada segundo Carlos GPT\\'</em>. Eles são a verdadeira essência deste magnífico desporto, representando tudo o que há de mais nobre e belo no padel!</p>     <p>Para aqueles cujas almas foram amaldiçoadas pela derrota, fica o desejo de que a resiliência os conduza a jornadas mais gloriosas e que os deuses do padel possam ser menos impiedosos e mais benevolentes na próxima dança!</p> </div>', 'latest': False, 'cover_image_id': 175},\n",
       " {'id': 3, 'title': 'Jornada 2 - Onde Heróis Caem e os Improváveis Dominam', 'cover_path': 'images/jornada2-ondeheroiscaemeosimprovaveisdominam_3.jpg', 'author': 'Carlos GPT', 'text': '<style>     .date {         font-weight: bold;     }     .highlighted {         color: #444; /* Dark gray color */         font-weight: bold;     } </style> <div>     <p class=\"date\">Porto, 18 de setembro de 2023</p>     <p>Bem-vindos a mais um resumo épico da Jornada 2 da Padel League Porto. Liguem os ventiladores, que hoje a coisa aqueceu!</p><p>Na primeira divisão, o show foi patrocinado por <span class=\"highlighted\">Semelhe</span> e <span class=\"highlighted\">Miguel SG</span> que, aparentemente, se tornaram inseparáveis e atingiram um entendimento espiritual, vencendo dois dos seus três jogos. No entanto, a surpresa da noite foi a dupla <span class=\"highlighted\">Joao perneta</span> e <span class=\"highlighted\">Dudas</span>, que, apesar do nome peculiar de Joao, provaram que ter um perneta na equipa é só um pormenor. Venceram dois jogos e empataram um. Quem diria?!</p>  <p>Já na segunda divisão, <span class=\"highlighted\">Malafaya</span> e <span class=\"highlighted\">Kikos</span> mostraram que o nome pode soar a cantores de kizomba, mas o talento deles é mesmo no padel. Três vitórias para esta dupla, que promete não deixar os seus fãs desapontados. E falando de desapontamentos, olá <span class=\"highlighted\">Pipo</span> e <span class=\"highlighted\">Pêras</span>, tudo bem por aí? A defesa deles parece um queijo suíço, cheia de buracos.</p>  <p>Uma nota de apreço para <span class=\"highlighted\">Cuca</span>. Sabemos que foi difícil, com tantas trocas de parceiro, mas não desististe. Pelo menos ganhaste um jogo!</p>  <p>Olhando para a jornada que se avizinha, todos os olhos estarão no combate titânico entre <span class=\"highlighted\">Semelhe</span> e <span class=\"highlighted\">Joao perneta</span> contra <span class=\"highlighted\">Cuca</span> e <span class=\"highlighted\">Miguel SG</span>. E na segunda divisão, bem... esperamos que <span class=\"highlighted\">Pipo</span> consiga finalmente marcar mais do que o número de pessoas na sua lista de fãs, quando enfrentar a dupla <span class=\"highlighted\">Bernardo C</span> e <span class=\"highlighted\">Kikos</span>.</p>  <p>Baseando-se nos últimos resultados e na tabela de classificações, parece que <span class=\"highlighted\">Malafaya</span> tem tudo para continuar a sua saga dominadora na segunda divisão. Na primeira, o drama está garantido, mas <span class=\"highlighted\">Joao perneta</span> e <span class=\"highlighted\">Dudas</span> estão a mostrar que o céu é o limite.</p>  <p>Os grandes vencedores desta jornada, segundo Carlos GPT, são, sem dúvida, <span class=\"highlighted\">Semelhe</span> e <span class=\"highlighted\">Miguel SG</span> na primeira divisão, e a imparável dupla de kizombeiros <span class=\"highlighted\">Malafaya</span> e <span class=\"highlighted\">Kikos</span> na segunda. O motivo? Bem, é simples: ambos mostraram que em padel, tal como na vida, talento supera tudo, mesmo os nomes mais peculiares ou ritmos dançantes.</p>  <p>E como sempre despeço-me com um \\'No Padel e no amor, há uma coisa certa: nunca subestimem o efeito de um bom slice,\\' Carlos GPT, o vosso guia sarcástico nas quadras e na diversão!</p></div>', 'latest': False, 'cover_image_id': 174},\n",
       " {'id': 2, 'title': 'Surpresas e Reviravoltas Marcam a Jornada Inicial da Padel League Porto', 'cover_path': 'images/surpresasereviravoltasmarcamajornadainicialdapadelleagueporto_2.jpg', 'author': 'Carlos GPT', 'text': '<style>     .date {         font-weight: bold;     }     .highlighted {         color: #444; /* Dark gray color */         font-weight: bold;     } </style>  <div>     <p class=\"date\">Porto, 13 de setembro de 2023</p>     <p>Após a animada Jornada 1 da Padel League Porto, é altura de fazer um resumo das ações mais quentes nas quadras e olhar para o que se avizinha!</p>      <p>Na primeira divisão, <span class=\"highlighted\">Joao perneta</span> e <span class=\"highlighted\">Miguel SG</span> deram um show, vencendo dois dos seus jogos, incluindo uma vitória renhida sobre a poderosa dupla <span class=\"highlighted\">Cuca</span> e <span class=\"highlighted\">Carlo</span>. No entanto, a dupla <span class=\"highlighted\">Jonny</span> e <span class=\"highlighted\">Dudas</span> roubou o espetáculo com três vitórias espetaculares, incluindo uma dominante sobre Cuca e Carlo, que tiveram uma jornada difícil.</p>      <p>Mudando o foco para a segunda divisão, foi um festival de <span class=\"highlighted\">Malafaya</span> e <span class=\"highlighted\">Bernardo C</span>. Com três vitórias impressionantes, esta dupla demonstrou que está aqui para ficar e, sem dúvida, para aspirar ao topo. Por outro lado, <span class=\"highlighted\">Pancho</span> e <span class=\"highlighted\">Pêras</span> tiveram uma jornada complicada com apenas um empate. De notar que <span class=\"highlighted\">Freitas</span> parece ter encontrado a sua forma, vencendo um dos seus jogos com uma margem confortável.</p>      <p>Olhando para o futuro e para a Jornada 2, os jogos a seguir prometem agitar as coisas na tabela. Na primeira divisão, todos os olhos estarão em <span class=\"highlighted\">Semelhe</span> e <span class=\"highlighted\">Miguel SG</span> enquanto enfrentam tanto <span class=\"highlighted\">Jonny</span> e <span class=\"highlighted\">Carlo</span> como <span class=\"highlighted\">Cuca</span> e <span class=\"highlighted\">Talinho</span>. Na segunda divisão, será interessante ver como <span class=\"highlighted\">Pipo</span> e <span class=\"highlighted\">Pêras</span> enfrentam os líderes <span class=\"highlighted\">Bernardo C</span> e <span class=\"highlighted\">Malafaya</span>.</p>      <p>Baseando-se na Jornada 1 e na tabela de classificações, parece que <span class=\"highlighted\">Bernardo C</span> e <span class=\"highlighted\">Malafaya</span> estão bem posicionados para continuar a sua série de vitórias na segunda divisão. Na primeira divisão, a pressão está em <span class=\"highlighted\">Cuca</span> e <span class=\"highlighted\">Carlo</span> para reverter a sua sorte.</p>      <p>Para Carlos GPT, os grandes vencedores da Jornada 1 são sem dúvida <span class=\"highlighted\">Jonny</span> e <span class=\"highlighted\">Dudas</span> na primeira divisão, e <span class=\"highlighted\">Malafaya</span> e <span class=\"highlighted\">Bernardo C</span> na segunda divisão. Ambas as duplas mostraram técnica, resiliência e uma química invejável em quadra.</p>      <p>E como sempre despeço-me com um \\'No Padel e no amor, há uma coisa certa: um bom parceiro faz toda a diferença,\\' Carlos GPT, o vosso guia nas quadras e na diversão!</p> </div>', 'latest': False, 'cover_image_id': 170},\n",
       " {'id': 1, 'title': 'Padel League Porto - Edição de Outono 2023', 'cover_path': 'images/padelleagueporto-edicaodeoutono2023_1.jpg', 'author': 'Carlos GPT', 'text': '<style>     .date {         font-weight: bold;     }      .highlighted {         color: #444; /* Dark gray color */         font-weight: bold;     } </style>  <div>     <p class=\"date\">Porto, 6 de setembro de 2023</p>     <p>Está na hora de colocar as sapatilhas, preparar as raquetes e aquecer os músculos, pois a 6ª edição da Padel League Porto, edição de outono, está prestes a começar. Os amantes deste desporto apaixonante estão prontos para vibrar com mais uma temporada repleta de reviravoltas e ação nas quadras!</p>      <p>A grande surpresa desta edição é a chegada de <span class=\"highlighted\">Carlo</span> à primeira divisão, enquanto <span class=\"highlighted\">Jonny</span> faz um regresso emocionante. <span class=\"highlighted\">Cuca</span>, o campeão da última temporada, é alvo de todos os olhares, pois defende o seu título com unhas e dentes.</p>      <p>O destaque vai para <span class=\"highlighted\">Filipe</span>, que volta à competição após uma ausência na temporada anterior, e para os estreantes <span class=\"highlighted\">Pipo</span> e <span class=\"highlighted\">Bernardo Castro</span>, que prometem agitar a segunda divisão.</p>      <p><span class=\"highlighted\">Peras</span>, após uma descida de divisão, está determinado a recuperar o seu lugar na primeira divisão. O <span class=\"highlighted\">Talinho</span>, por sua vez, manteve-se na primeira divisão devido à desistência do <span class=\"highlighted\">Kikão</span>, uma viragem crucial para a sua carreira no padel.</p>      <p>Os fãs do <span class=\"highlighted\">Filipe</span> podem comemorar, pois o \"bom filho a casa torna\". Com a sua presença, a competição ganha um toque especial e imprevisível.</p>      <p><span class=\"highlighted\">Pancho</span>, na segunda divisão, está mais determinado do que nunca a subir de patamar, desde que pare de faltar aos jogos e se concentre no seu desempenho.</p>      <p>O <span class=\"highlighted\">Miguel SG</span> e o <span class=\"highlighted\">Semelhe</span>, sedentos de vingança contra <span class=\"highlighted\">Cuca</span>, têm um objetivo claro: recuperar o título da Padel League Porto. A rivalidade está no ar, e a competição promete ser feroz.</p>      <p>À medida que as raquetes se erguem e os jogadores aquecem, os corações dos adeptos batem mais rápido, ansiosos por uma temporada cheia de jogadas espetaculares e momentos emocionantes. A Padel League Porto está de volta, e o espetáculo está garantido nas quadras da cidade invicta!</p>      <p>Desejamos a todos os competidores boa sorte e que aproveitem cada momento nas quadras. A Padel League Porto está de volta, e o espetáculo está garantido!</p>       <p>E como sempre despeço-me com um \\'No Padel e no amor, há uma coisa certa: a técnica é essencial,\\' Carlos GPT, o vosso guia nas quadras e na diversão!</p> </div>', 'latest': False, 'cover_image_id': 165}]"
      ]
     },
     "execution_count": 85,
     "metadata": {},
     "output_type": "execute_result"
    }
   ],
   "source": [
    "get_all_elements_from_table('news')"
   ]
  },
  {
   "cell_type": "code",
   "execution_count": 86,
   "metadata": {},
   "outputs": [
    {
     "data": {
      "text/plain": [
       "[{'id': 263, 'filename': None, 'imageable_id': None, 'object_key': 'images/Backend_App/20250902111303_app_image.png', 'content_type': None, 'size_bytes': None, 'is_public': True},\n",
       " {'id': 262, 'filename': None, 'imageable_id': None, 'object_key': 'images/Backend_App/20250423172152_app_image.png', 'content_type': None, 'size_bytes': None, 'is_public': True},\n",
       " {'id': 261, 'filename': None, 'imageable_id': None, 'object_key': 'images/Backend_App/20250423172129_app_image.png', 'content_type': None, 'size_bytes': None, 'is_public': True},\n",
       " {'id': 260, 'filename': None, 'imageable_id': None, 'object_key': 'images/Backend_App/20250423121314_app_image.png', 'content_type': None, 'size_bytes': None, 'is_public': True},\n",
       " {'id': 259, 'filename': None, 'imageable_id': None, 'object_key': 'images/Backend_App/20250421164935_app_image.png', 'content_type': None, 'size_bytes': None, 'is_public': True},\n",
       " {'id': 258, 'filename': None, 'imageable_id': None, 'object_key': 'images/Backend_App/20250421164757_app_image.png', 'content_type': None, 'size_bytes': None, 'is_public': True},\n",
       " {'id': 257, 'filename': None, 'imageable_id': None, 'object_key': 'images/Backend_App/20250421164735_app_image.png', 'content_type': None, 'size_bytes': None, 'is_public': True},\n",
       " {'id': 256, 'filename': None, 'imageable_id': None, 'object_key': 'images/Backend_App/20250421164717_app_image.png', 'content_type': None, 'size_bytes': None, 'is_public': True},\n",
       " {'id': 255, 'filename': None, 'imageable_id': None, 'object_key': 'images/Backend_App/20250421164657_app_image.png', 'content_type': None, 'size_bytes': None, 'is_public': True},\n",
       " {'id': 254, 'filename': None, 'imageable_id': None, 'object_key': 'images/Backend_App/20250417194011_app_image.png', 'content_type': None, 'size_bytes': None, 'is_public': True},\n",
       " {'id': 253, 'filename': None, 'imageable_id': None, 'object_key': 'images/Backend_App/20250417193940_app_image.png', 'content_type': None, 'size_bytes': None, 'is_public': True},\n",
       " {'id': 252, 'filename': None, 'imageable_id': None, 'object_key': 'images/Backend_App/20250417193859_app_image.png', 'content_type': None, 'size_bytes': None, 'is_public': True},\n",
       " {'id': 251, 'filename': None, 'imageable_id': None, 'object_key': 'images/Backend_App/20250417193842_app_image.png', 'content_type': None, 'size_bytes': None, 'is_public': True},\n",
       " {'id': 250, 'filename': None, 'imageable_id': None, 'object_key': 'images/Backend_App/20250417192811_app_image.png', 'content_type': None, 'size_bytes': None, 'is_public': True},\n",
       " {'id': 248, 'filename': None, 'imageable_id': None, 'object_key': 'images/News/odisseiadasraquetes:deusesemortaisnaalvoradada7apadelleagueporto_6.jpg', 'content_type': None, 'size_bytes': None, 'is_public': True},\n",
       " {'id': 247, 'filename': None, 'imageable_id': None, 'object_key': 'images/News/parceriahistorica-portopadelleagueequintadasardinhadecima_11.jpg', 'content_type': None, 'size_bytes': None, 'is_public': True},\n",
       " {'id': 246, 'filename': None, 'imageable_id': None, 'object_key': 'images/News/dueloseduetosdeumadancapadelistica_4.jpg', 'content_type': None, 'size_bytes': None, 'is_public': True},\n",
       " {'id': 245, 'filename': None, 'imageable_id': None, 'object_key': 'images/News/portopadelleagueregressaemgrandeparaasua16.aedicao--com5divisoesepremiosineditos_12.jpg', 'content_type': None, 'size_bytes': None, 'is_public': True},\n",
       " {'id': 244, 'filename': None, 'imageable_id': None, 'object_key': 'images/News/portopadelleague-novositeoficial_13.jpg', 'content_type': None, 'size_bytes': None, 'is_public': True},\n",
       " {'id': 243, 'filename': None, 'imageable_id': None, 'object_key': 'images/News/osimperadoresdopadel:aascensaodegiganteseaquedademortaisnasegundajornada_9.jpg', 'content_type': None, 'size_bytes': None, 'is_public': True},\n",
       " {'id': 242, 'filename': None, 'imageable_id': None, 'object_key': 'images/News/rumoaopodio:aodisseiasemanaldapadelleagueporto_8.jpg', 'content_type': None, 'size_bytes': None, 'is_public': True},\n",
       " {'id': 241, 'filename': None, 'imageable_id': None, 'object_key': 'images/News/padelleagueporto-edicaodeoutono2023_1.jpg', 'content_type': None, 'size_bytes': None, 'is_public': True},\n",
       " {'id': 240, 'filename': None, 'imageable_id': None, 'object_key': 'images/News/jornada2-ondeheroiscaemeosimprovaveisdominam_3.jpg', 'content_type': None, 'size_bytes': None, 'is_public': True},\n",
       " {'id': 239, 'filename': None, 'imageable_id': None, 'object_key': 'images/News/surpresasereviravoltasmarcamajornadainicialdapadelleagueporto_2.jpg', 'content_type': None, 'size_bytes': None, 'is_public': True},\n",
       " {'id': 238, 'filename': None, 'imageable_id': None, 'object_key': 'images/News/guerrasepaznopalcosutildadramaticapadelandia_5.jpg', 'content_type': None, 'size_bytes': None, 'is_public': True},\n",
       " {'id': 237, 'filename': None, 'imageable_id': None, 'object_key': 'images/News/quecomeceoespetaculo:asprimeirasduplasda12aedicaodapadelleagueporto_7.jpg', 'content_type': None, 'size_bytes': None, 'is_public': True},\n",
       " {'id': 236, 'filename': None, 'imageable_id': None, 'object_key': 'images/News/aincrivelressurreicaodejoaoarcher:quandoaslendasdopadelsecriam_10.jpg', 'content_type': None, 'size_bytes': None, 'is_public': True},\n",
       " {'id': 177, 'filename': None, 'imageable_id': None, 'object_key': 'images/Sponsor/20250423172512_image.png', 'content_type': None, 'size_bytes': None, 'is_public': True},\n",
       " {'id': 176, 'filename': None, 'imageable_id': None, 'object_key': 'images/odisseiadasraquetes:deusesemortaisnaalvoradada7apadelleagueporto_6.jpg', 'content_type': None, 'size_bytes': None, 'is_public': True},\n",
       " {'id': 175, 'filename': None, 'imageable_id': None, 'object_key': 'images/dueloseduetosdeumadancapadelistica_4.jpg', 'content_type': None, 'size_bytes': None, 'is_public': True},\n",
       " {'id': 174, 'filename': None, 'imageable_id': None, 'object_key': 'images/jornada2-ondeheroiscaemeosimprovaveisdominam_3.jpg', 'content_type': None, 'size_bytes': None, 'is_public': True},\n",
       " {'id': 173, 'filename': None, 'imageable_id': None, 'object_key': 'images/quecomeceoespetaculo:asprimeirasduplasda12aedicaodapadelleagueporto_7.jpg', 'content_type': None, 'size_bytes': None, 'is_public': True},\n",
       " {'id': 172, 'filename': None, 'imageable_id': None, 'object_key': 'images/aincrivelressurreicaodejoaoarcher:quandoaslendasdopadelsecriam_10.jpg', 'content_type': None, 'size_bytes': None, 'is_public': True},\n",
       " {'id': 171, 'filename': None, 'imageable_id': None, 'object_key': 'images/portopadelleagueregressaemgrandeparaasua16.aedicao--com5divisoesepremiosineditos_12.jpg', 'content_type': None, 'size_bytes': None, 'is_public': True},\n",
       " {'id': 170, 'filename': None, 'imageable_id': None, 'object_key': 'images/surpresasereviravoltasmarcamajornadainicialdapadelleagueporto_2.jpg', 'content_type': None, 'size_bytes': None, 'is_public': True},\n",
       " {'id': 169, 'filename': None, 'imageable_id': None, 'object_key': 'images/rumoaopodio:aodisseiasemanaldapadelleagueporto_8.jpg', 'content_type': None, 'size_bytes': None, 'is_public': True},\n",
       " {'id': 168, 'filename': None, 'imageable_id': None, 'object_key': 'images/guerrasepaznopalcosutildadramaticapadelandia_5.jpg', 'content_type': None, 'size_bytes': None, 'is_public': True},\n",
       " {'id': 167, 'filename': None, 'imageable_id': None, 'object_key': 'images/osimperadoresdopadel:aascensaodegiganteseaquedademortaisnasegundajornada_9.jpg', 'content_type': None, 'size_bytes': None, 'is_public': True},\n",
       " {'id': 166, 'filename': None, 'imageable_id': None, 'object_key': 'images/portopadelleague-novositeoficial_13.jpg', 'content_type': None, 'size_bytes': None, 'is_public': True},\n",
       " {'id': 165, 'filename': None, 'imageable_id': None, 'object_key': 'images/padelleagueporto-edicaodeoutono2023_1.jpg', 'content_type': None, 'size_bytes': None, 'is_public': True},\n",
       " {'id': 164, 'filename': None, 'imageable_id': None, 'object_key': 'images/parceriahistorica-portopadelleagueequintadasardinhadecima_11.jpg', 'content_type': None, 'size_bytes': None, 'is_public': True},\n",
       " {'id': 163, 'filename': None, 'imageable_id': None, 'object_key': 'images/Player/large_pic_default.jpg', 'content_type': None, 'size_bytes': None, 'is_public': True},\n",
       " {'id': 162, 'filename': None, 'imageable_id': None, 'object_key': 'images/Player/miguelcaeiro.png', 'content_type': None, 'size_bytes': None, 'is_public': True},\n",
       " {'id': 161, 'filename': None, 'imageable_id': None, 'object_key': 'images/Player/dinis_32.png', 'content_type': None, 'size_bytes': None, 'is_public': True},\n",
       " {'id': 160, 'filename': None, 'imageable_id': None, 'object_key': 'images/Player/joaoperneta_18.png', 'content_type': None, 'size_bytes': None, 'is_public': True},\n",
       " {'id': 159, 'filename': None, 'imageable_id': None, 'object_key': 'images/Player/dinisbritoefaro.png', 'content_type': None, 'size_bytes': None, 'is_public': True},\n",
       " {'id': 158, 'filename': None, 'imageable_id': None, 'object_key': 'images/Player/fred_33.png', 'content_type': None, 'size_bytes': None, 'is_public': True},\n",
       " {'id': 157, 'filename': None, 'imageable_id': None, 'object_key': 'images/Player/zesantos_56.png', 'content_type': None, 'size_bytes': None, 'is_public': True},\n",
       " {'id': 156, 'filename': None, 'imageable_id': None, 'object_key': 'images/Player/afonsoxavier_63.png', 'content_type': None, 'size_bytes': None, 'is_public': True},\n",
       " {'id': 155, 'filename': None, 'imageable_id': None, 'object_key': 'images/Player/tomas_57.png', 'content_type': None, 'size_bytes': None, 'is_public': True},\n",
       " {'id': 154, 'filename': None, 'imageable_id': None, 'object_key': 'images/Player/pimagalhaes_45.png', 'content_type': None, 'size_bytes': None, 'is_public': True},\n",
       " {'id': 153, 'filename': None, 'imageable_id': None, 'object_key': 'images/Player/rafael_60.png', 'content_type': None, 'size_bytes': None, 'is_public': True},\n",
       " {'id': 152, 'filename': None, 'imageable_id': None, 'object_key': 'images/Player/tiagoallenvalente.png', 'content_type': None, 'size_bytes': None, 'is_public': True},\n",
       " {'id': 151, 'filename': None, 'imageable_id': None, 'object_key': 'images/Player/franciscofreitas.png', 'content_type': None, 'size_bytes': None, 'is_public': True},\n",
       " {'id': 150, 'filename': None, 'imageable_id': None, 'object_key': 'images/Player/goncalogarrett.png', 'content_type': None, 'size_bytes': None, 'is_public': True},\n",
       " {'id': 149, 'filename': None, 'imageable_id': None, 'object_key': 'images/Player/dias_17.jpg', 'content_type': None, 'size_bytes': None, 'is_public': True},\n",
       " {'id': 148, 'filename': None, 'imageable_id': None, 'object_key': 'images/Player/carlo_23.png', 'content_type': None, 'size_bytes': None, 'is_public': True},\n",
       " {'id': 147, 'filename': None, 'imageable_id': None, 'object_key': 'images/Player/afonsomartinho.png', 'content_type': None, 'size_bytes': None, 'is_public': True},\n",
       " {'id': 146, 'filename': None, 'imageable_id': None, 'object_key': 'images/Player/tolencastre_58.png', 'content_type': None, 'size_bytes': None, 'is_public': True},\n",
       " {'id': 145, 'filename': None, 'imageable_id': None, 'object_key': 'images/Player/ricas_42.png', 'content_type': None, 'size_bytes': None, 'is_public': True},\n",
       " {'id': 144, 'filename': None, 'imageable_id': None, 'object_key': 'images/Player/bucas_40.png', 'content_type': None, 'size_bytes': None, 'is_public': True},\n",
       " {'id': 143, 'filename': None, 'imageable_id': None, 'object_key': 'images/Player/fredbaptista_51.png', 'content_type': None, 'size_bytes': None, 'is_public': True},\n",
       " {'id': 142, 'filename': None, 'imageable_id': None, 'object_key': 'images/Player/pedropacheco.png', 'content_type': None, 'size_bytes': None, 'is_public': True},\n",
       " {'id': 141, 'filename': None, 'imageable_id': None, 'object_key': 'images/Player/joseveiga.png', 'content_type': None, 'size_bytes': None, 'is_public': True},\n",
       " {'id': 140, 'filename': None, 'imageable_id': None, 'object_key': 'images/Player/martinho_61.png', 'content_type': None, 'size_bytes': None, 'is_public': True},\n",
       " {'id': 139, 'filename': None, 'imageable_id': None, 'object_key': 'images/Player/goncalosemelhe.png', 'content_type': None, 'size_bytes': None, 'is_public': True},\n",
       " {'id': 138, 'filename': None, 'imageable_id': None, 'object_key': 'images/Player/franciscofontes.png', 'content_type': None, 'size_bytes': None, 'is_public': True},\n",
       " {'id': 137, 'filename': None, 'imageable_id': None, 'object_key': 'images/Player/luisnegrao_35.png', 'content_type': None, 'size_bytes': None, 'is_public': True},\n",
       " {'id': 136, 'filename': None, 'imageable_id': None, 'object_key': 'images/Player/franciscopereira.png', 'content_type': None, 'size_bytes': None, 'is_public': True},\n",
       " {'id': 135, 'filename': None, 'imageable_id': None, 'object_key': 'images/Player/lopo_30.png', 'content_type': None, 'size_bytes': None, 'is_public': True},\n",
       " {'id': 134, 'filename': None, 'imageable_id': None, 'object_key': 'images/Player/rodas_48.png', 'content_type': None, 'size_bytes': None, 'is_public': True},\n",
       " {'id': 133, 'filename': None, 'imageable_id': None, 'object_key': 'images/Player/joaomagalhaes.png', 'content_type': None, 'size_bytes': None, 'is_public': True},\n",
       " {'id': 132, 'filename': None, 'imageable_id': None, 'object_key': 'images/Player/miguelsg_12.png', 'content_type': None, 'size_bytes': None, 'is_public': True},\n",
       " {'id': 131, 'filename': None, 'imageable_id': None, 'object_key': 'images/Player/luisferreira.png', 'content_type': None, 'size_bytes': None, 'is_public': True},\n",
       " {'id': 130, 'filename': None, 'imageable_id': None, 'object_key': 'images/Player/nunomachado_46.png', 'content_type': None, 'size_bytes': None, 'is_public': True},\n",
       " {'id': 129, 'filename': None, 'imageable_id': None, 'object_key': 'images/Player/default_player.jpg', 'content_type': None, 'size_bytes': None, 'is_public': True},\n",
       " {'id': 128, 'filename': None, 'imageable_id': None, 'object_key': 'images/Player/joaoarcher_47.png', 'content_type': None, 'size_bytes': None, 'is_public': True},\n",
       " {'id': 127, 'filename': None, 'imageable_id': None, 'object_key': 'images/Player/kikos_26.png', 'content_type': None, 'size_bytes': None, 'is_public': True},\n",
       " {'id': 126, 'filename': None, 'imageable_id': None, 'object_key': 'images/Player/josepedropento.png', 'content_type': None, 'size_bytes': None, 'is_public': True},\n",
       " {'id': 125, 'filename': None, 'imageable_id': None, 'object_key': 'images/Player/kikobf_25.png', 'content_type': None, 'size_bytes': None, 'is_public': True},\n",
       " {'id': 124, 'filename': None, 'imageable_id': None, 'object_key': 'images/Player/damasio_34.png', 'content_type': None, 'size_bytes': None, 'is_public': True},\n",
       " {'id': 123, 'filename': None, 'imageable_id': None, 'object_key': 'images/Player/malafaya_27.png', 'content_type': None, 'size_bytes': None, 'is_public': True},\n",
       " {'id': 122, 'filename': None, 'imageable_id': None, 'object_key': 'images/Player/fezas_52.png', 'content_type': None, 'size_bytes': None, 'is_public': True},\n",
       " {'id': 121, 'filename': None, 'imageable_id': None, 'object_key': 'images/Player/pipo_29.png', 'content_type': None, 'size_bytes': None, 'is_public': True},\n",
       " {'id': 120, 'filename': None, 'imageable_id': None, 'object_key': 'images/Player/freddy_54.png', 'content_type': None, 'size_bytes': None, 'is_public': True},\n",
       " {'id': 119, 'filename': None, 'imageable_id': None, 'object_key': 'images/Player/ze_39.png', 'content_type': None, 'size_bytes': None, 'is_public': True},\n",
       " {'id': 118, 'filename': None, 'imageable_id': None, 'object_key': 'images/Player/trepa_44.png', 'content_type': None, 'size_bytes': None, 'is_public': True},\n",
       " {'id': 117, 'filename': None, 'imageable_id': None, 'object_key': 'images/Player/tomas_38.png', 'content_type': None, 'size_bytes': None, 'is_public': True},\n",
       " {'id': 116, 'filename': None, 'imageable_id': None, 'object_key': 'images/Player/bernardoc_28.png', 'content_type': None, 'size_bytes': None, 'is_public': True},\n",
       " {'id': 115, 'filename': None, 'imageable_id': None, 'object_key': 'images/Player/hugo_59.png', 'content_type': None, 'size_bytes': None, 'is_public': True},\n",
       " {'id': 114, 'filename': None, 'imageable_id': None, 'object_key': 'images/Player/goncalo_43.png', 'content_type': None, 'size_bytes': None, 'is_public': True},\n",
       " {'id': 113, 'filename': None, 'imageable_id': None, 'object_key': 'images/Player/diogo_3.png', 'content_type': None, 'size_bytes': None, 'is_public': True},\n",
       " {'id': 112, 'filename': None, 'imageable_id': None, 'object_key': 'images/Player/zema_31.png', 'content_type': None, 'size_bytes': None, 'is_public': True},\n",
       " {'id': 111, 'filename': None, 'imageable_id': None, 'object_key': 'images/Player/cuca_22.png', 'content_type': None, 'size_bytes': None, 'is_public': True},\n",
       " {'id': 110, 'filename': None, 'imageable_id': None, 'object_key': 'images/Player/goncalopa_37.png', 'content_type': None, 'size_bytes': None, 'is_public': True},\n",
       " {'id': 109, 'filename': None, 'imageable_id': None, 'object_key': 'images/Player/maria_41.png', 'content_type': None, 'size_bytes': None, 'is_public': True},\n",
       " {'id': 108, 'filename': None, 'imageable_id': None, 'object_key': 'images/Player/franciscogarrett_49.png', 'content_type': None, 'size_bytes': None, 'is_public': True},\n",
       " {'id': 107, 'filename': None, 'imageable_id': None, 'object_key': 'images/Player/luisfolhadela_62.png', 'content_type': None, 'size_bytes': None, 'is_public': True},\n",
       " {'id': 106, 'filename': None, 'imageable_id': None, 'object_key': 'images/Player/diogorodrigues_53.png', 'content_type': None, 'size_bytes': None, 'is_public': True},\n",
       " {'id': 105, 'filename': 'images/Division/primavera2023-1adivisao.png', 'imageable_id': None, 'object_key': 'images/Division/primavera2023-1adivisao.png', 'content_type': None, 'size_bytes': None, 'is_public': True},\n",
       " {'id': 104, 'filename': 'images/Division/inverno2024-1adivisao.png', 'imageable_id': None, 'object_key': 'images/Division/inverno2024-1adivisao.png', 'content_type': None, 'size_bytes': None, 'is_public': True},\n",
       " {'id': 103, 'filename': 'images/Division/playoff_quadroB_poster.png', 'imageable_id': None, 'object_key': 'images/Division/playoff_quadroB_poster.png', 'content_type': None, 'size_bytes': None, 'is_public': True},\n",
       " {'id': 102, 'filename': 'images/Division/outono2022-2adivisao.png', 'imageable_id': None, 'object_key': 'images/Division/outono2022-2adivisao.png', 'content_type': None, 'size_bytes': None, 'is_public': True},\n",
       " {'id': 101, 'filename': 'images/Division/verao2024-1adivisao.png', 'imageable_id': None, 'object_key': 'images/Division/verao2024-1adivisao.png', 'content_type': None, 'size_bytes': None, 'is_public': True},\n",
       " {'id': 100, 'filename': 'images/Division/primavera2024-2adivisao.png', 'imageable_id': None, 'object_key': 'images/Division/primavera2024-2adivisao.png', 'content_type': None, 'size_bytes': None, 'is_public': True},\n",
       " {'id': 99, 'filename': 'images/Division/outono2024-1adivisao.png', 'imageable_id': None, 'object_key': 'images/Division/outono2024-1adivisao.png', 'content_type': None, 'size_bytes': None, 'is_public': True},\n",
       " {'id': 98, 'filename': 'images/Division/inverno2024-3adivisao.png', 'imageable_id': None, 'object_key': 'images/Division/inverno2024-3adivisao.png', 'content_type': None, 'size_bytes': None, 'is_public': True},\n",
       " {'id': 97, 'filename': 'images/Division/outono2025-1adivisao.png', 'imageable_id': None, 'object_key': 'images/Division/outono2025-1adivisao.png', 'content_type': None, 'size_bytes': None, 'is_public': True},\n",
       " {'id': 96, 'filename': 'images/Division/outono2-2024.png', 'imageable_id': None, 'object_key': 'images/Division/outono2-2024.png', 'content_type': None, 'size_bytes': None, 'is_public': True},\n",
       " {'id': 95, 'filename': 'images/Division/outono2025-4adivisao.png', 'imageable_id': None, 'object_key': 'images/Division/outono2025-4adivisao.png', 'content_type': None, 'size_bytes': None, 'is_public': True},\n",
       " {'id': 94, 'filename': 'images/Division/outono2022-1adivisao.png', 'imageable_id': None, 'object_key': 'images/Division/outono2022-1adivisao.png', 'content_type': None, 'size_bytes': None, 'is_public': True},\n",
       " {'id': 93, 'filename': 'images/Division/inverno22025-4adivisao.png', 'imageable_id': None, 'object_key': 'images/Division/inverno22025-4adivisao.png', 'content_type': None, 'size_bytes': None, 'is_public': True},\n",
       " {'id': 92, 'filename': 'images/Division/inverno2025-2adivisao.png', 'imageable_id': None, 'object_key': 'images/Division/inverno2025-2adivisao.png', 'content_type': None, 'size_bytes': None, 'is_public': True},\n",
       " {'id': 91, 'filename': 'images/Division/13aedicaooutono2-4adivisao.png', 'imageable_id': None, 'object_key': 'images/Division/13aedicaooutono2-4adivisao.png', 'content_type': None, 'size_bytes': None, 'is_public': True},\n",
       " {'id': 90, 'filename': 'images/Division/outono2-2adivisao.png', 'imageable_id': None, 'object_key': 'images/Division/outono2-2adivisao.png', 'content_type': None, 'size_bytes': None, 'is_public': True},\n",
       " {'id': 89, 'filename': 'images/Division/outono2-3adivisao.png', 'imageable_id': None, 'object_key': 'images/Division/outono2-3adivisao.png', 'content_type': None, 'size_bytes': None, 'is_public': True},\n",
       " {'id': 88, 'filename': 'images/Division/primavera2025-1adivisao.png', 'imageable_id': None, 'object_key': 'images/Division/primavera2025-1adivisao.png', 'content_type': None, 'size_bytes': None, 'is_public': True},\n",
       " {'id': 87, 'filename': 'images/Division/inverno2025-4adivisao.png', 'imageable_id': None, 'object_key': 'images/Division/inverno2025-4adivisao.png', 'content_type': None, 'size_bytes': None, 'is_public': True},\n",
       " {'id': 86, 'filename': 'images/Division/3adivisao.png', 'imageable_id': None, 'object_key': 'images/Division/3adivisao.png', 'content_type': None, 'size_bytes': None, 'is_public': True},\n",
       " {'id': 85, 'filename': 'images/Division/inverno2025-3adivisao.png', 'imageable_id': None, 'object_key': 'images/Division/inverno2025-3adivisao.png', 'content_type': None, 'size_bytes': None, 'is_public': True},\n",
       " {'id': 84, 'filename': 'images/Division/primavera2025-4adivisao.png', 'imageable_id': None, 'object_key': 'images/Division/primavera2025-4adivisao.png', 'content_type': None, 'size_bytes': None, 'is_public': True},\n",
       " {'id': 83, 'filename': 'images/Division/inverno2025-1adivisao.png', 'imageable_id': None, 'object_key': 'images/Division/inverno2025-1adivisao.png', 'content_type': None, 'size_bytes': None, 'is_public': True},\n",
       " {'id': 82, 'filename': 'images/Division/inverno22025-2adivisao.png', 'imageable_id': None, 'object_key': 'images/Division/inverno22025-2adivisao.png', 'content_type': None, 'size_bytes': None, 'is_public': True},\n",
       " {'id': 81, 'filename': 'images/Division/outono2025-3adivisao.png', 'imageable_id': None, 'object_key': 'images/Division/outono2025-3adivisao.png', 'content_type': None, 'size_bytes': None, 'is_public': True},\n",
       " {'id': 80, 'filename': 'images/Division/verao2024-2adivisao.png', 'imageable_id': None, 'object_key': 'images/Division/verao2024-2adivisao.png', 'content_type': None, 'size_bytes': None, 'is_public': True},\n",
       " {'id': 79, 'filename': 'images/Division/outono2024-3adivisao.png', 'imageable_id': None, 'object_key': 'images/Division/outono2024-3adivisao.png', 'content_type': None, 'size_bytes': None, 'is_public': True},\n",
       " {'id': 78, 'filename': 'images/Division/outono2024-4adivisao.png', 'imageable_id': None, 'object_key': 'images/Division/outono2024-4adivisao.png', 'content_type': None, 'size_bytes': None, 'is_public': True},\n",
       " {'id': 77, 'filename': 'images/Division/outono22023-2adivisao.png', 'imageable_id': None, 'object_key': 'images/Division/outono22023-2adivisao.png', 'content_type': None, 'size_bytes': None, 'is_public': True},\n",
       " {'id': 76, 'filename': 'images/Division/inverno2023-2adivisao.png', 'imageable_id': None, 'object_key': 'images/Division/inverno2023-2adivisao.png', 'content_type': None, 'size_bytes': None, 'is_public': True},\n",
       " {'id': 75, 'filename': 'images/Division/primavera2025-3adivisao.png', 'imageable_id': None, 'object_key': 'images/Division/primavera2025-3adivisao.png', 'content_type': None, 'size_bytes': None, 'is_public': True},\n",
       " {'id': 74, 'filename': 'images/Division/2adivisao.png', 'imageable_id': None, 'object_key': 'images/Division/2adivisao.png', 'content_type': None, 'size_bytes': None, 'is_public': True},\n",
       " {'id': 73, 'filename': 'images/Division/inverno2023-1adivisao.png', 'imageable_id': None, 'object_key': 'images/Division/inverno2023-1adivisao.png', 'content_type': None, 'size_bytes': None, 'is_public': True},\n",
       " {'id': 72, 'filename': 'images/Division/inverno22025-1adivisao.png', 'imageable_id': None, 'object_key': 'images/Division/inverno22025-1adivisao.png', 'content_type': None, 'size_bytes': None, 'is_public': True},\n",
       " {'id': 71, 'filename': 'images/Division/outono2025-5adivisao.png', 'imageable_id': None, 'object_key': 'images/Division/outono2025-5adivisao.png', 'content_type': None, 'size_bytes': None, 'is_public': True},\n",
       " {'id': 70, 'filename': 'images/Division/primavera2024-3adivisao.png', 'imageable_id': None, 'object_key': 'images/Division/primavera2024-3adivisao.png', 'content_type': None, 'size_bytes': None, 'is_public': True},\n",
       " {'id': 69, 'filename': 'images/Division/outono2025-2adivisao.png', 'imageable_id': None, 'object_key': 'images/Division/outono2025-2adivisao.png', 'content_type': None, 'size_bytes': None, 'is_public': True},\n",
       " {'id': 68, 'filename': 'images/Division/verao2023-2adivisao.png', 'imageable_id': None, 'object_key': 'images/Division/verao2023-2adivisao.png', 'content_type': None, 'size_bytes': None, 'is_public': True},\n",
       " {'id': 67, 'filename': 'images/Division/outono2023-2adivisao.png', 'imageable_id': None, 'object_key': 'images/Division/outono2023-2adivisao.png', 'content_type': None, 'size_bytes': None, 'is_public': True},\n",
       " {'id': 66, 'filename': 'images/Division/playoff_quadroA_poster.png', 'imageable_id': None, 'object_key': 'images/Division/playoff_quadroA_poster.png', 'content_type': None, 'size_bytes': None, 'is_public': True},\n",
       " {'id': 65, 'filename': 'images/Division/primavera2023-2adivisao.png', 'imageable_id': None, 'object_key': 'images/Division/primavera2023-2adivisao.png', 'content_type': None, 'size_bytes': None, 'is_public': True},\n",
       " {'id': 64, 'filename': 'images/Division/edicaooutono2024-2adivisao.png', 'imageable_id': None, 'object_key': 'images/Division/edicaooutono2024-2adivisao.png', 'content_type': None, 'size_bytes': None, 'is_public': True},\n",
       " {'id': 63, 'filename': 'images/Division/primavera2024-1adivisao.png', 'imageable_id': None, 'object_key': 'images/Division/primavera2024-1adivisao.png', 'content_type': None, 'size_bytes': None, 'is_public': True},\n",
       " {'id': 62, 'filename': 'images/Division/1adivisao.png', 'imageable_id': None, 'object_key': 'images/Division/1adivisao.png', 'content_type': None, 'size_bytes': None, 'is_public': True},\n",
       " {'id': 61, 'filename': 'images/Division/inverno22025-3adivisao.png', 'imageable_id': None, 'object_key': 'images/Division/inverno22025-3adivisao.png', 'content_type': None, 'size_bytes': None, 'is_public': True},\n",
       " {'id': 60, 'filename': 'images/Division/primavera2025-2adivisao.png', 'imageable_id': None, 'object_key': 'images/Division/primavera2025-2adivisao.png', 'content_type': None, 'size_bytes': None, 'is_public': True},\n",
       " {'id': 59, 'filename': 'images/Division/verao2023-1adivisao.png', 'imageable_id': None, 'object_key': 'images/Division/verao2023-1adivisao.png', 'content_type': None, 'size_bytes': None, 'is_public': True},\n",
       " {'id': 58, 'filename': 'images/Division/primavera2025-5adivisao.png', 'imageable_id': None, 'object_key': 'images/Division/primavera2025-5adivisao.png', 'content_type': None, 'size_bytes': None, 'is_public': True},\n",
       " {'id': 57, 'filename': 'images/Division/inverno2024-2adivisao.png', 'imageable_id': None, 'object_key': 'images/Division/inverno2024-2adivisao.png', 'content_type': None, 'size_bytes': None, 'is_public': True},\n",
       " {'id': 56, 'filename': 'images/Division/outono2023-1adivisao.png', 'imageable_id': None, 'object_key': 'images/Division/outono2023-1adivisao.png', 'content_type': None, 'size_bytes': None, 'is_public': True},\n",
       " {'id': 55, 'filename': 'images/Division/verao2024-3adivisao.png', 'imageable_id': None, 'object_key': 'images/Division/verao2024-3adivisao.png', 'content_type': None, 'size_bytes': None, 'is_public': True},\n",
       " {'id': 54, 'filename': 'images/Division/outono22023-1adivisao.png', 'imageable_id': None, 'object_key': 'images/Division/outono22023-1adivisao.png', 'content_type': None, 'size_bytes': None, 'is_public': True},\n",
       " {'id': 53, 'filename': 'images/Division/outono2024-1adivisao.png.png', 'imageable_id': None, 'object_key': 'images/Division/outono2024-1adivisao.png.png', 'content_type': None, 'size_bytes': None, 'is_public': True},\n",
       " {'id': 52, 'filename': 'images/Division/outono2023-2adivisao.png.png', 'imageable_id': None, 'object_key': 'images/Division/outono2023-2adivisao.png.png', 'content_type': None, 'size_bytes': None, 'is_public': True},\n",
       " {'id': 51, 'filename': 'images/Division/primavera2024-3adivisao.png.png', 'imageable_id': None, 'object_key': 'images/Division/primavera2024-3adivisao.png.png', 'content_type': None, 'size_bytes': None, 'is_public': True},\n",
       " {'id': 50, 'filename': 'images/Division/outono2025-3adivisao.png.png', 'imageable_id': None, 'object_key': 'images/Division/outono2025-3adivisao.png.png', 'content_type': None, 'size_bytes': None, 'is_public': True},\n",
       " {'id': 49, 'filename': 'images/Division/inverno2024-1adivisao.png.png', 'imageable_id': None, 'object_key': 'images/Division/inverno2024-1adivisao.png.png', 'content_type': None, 'size_bytes': None, 'is_public': True},\n",
       " {'id': 48, 'filename': 'images/Division/outono2-2adivisao.png.png', 'imageable_id': None, 'object_key': 'images/Division/outono2-2adivisao.png.png', 'content_type': None, 'size_bytes': None, 'is_public': True},\n",
       " {'id': 47, 'filename': 'images/Division/1adivisao.png.png', 'imageable_id': None, 'object_key': 'images/Division/1adivisao.png.png', 'content_type': None, 'size_bytes': None, 'is_public': True},\n",
       " {'id': 46, 'filename': 'images/Division/inverno2024-2adivisao.png.png', 'imageable_id': None, 'object_key': 'images/Division/inverno2024-2adivisao.png.png', 'content_type': None, 'size_bytes': None, 'is_public': True},\n",
       " {'id': 45, 'filename': 'images/Division/inverno2023-2adivisao.png.png', 'imageable_id': None, 'object_key': 'images/Division/inverno2023-2adivisao.png.png', 'content_type': None, 'size_bytes': None, 'is_public': True},\n",
       " {'id': 44, 'filename': 'images/Division/outono2024-3adivisao.png.png', 'imageable_id': None, 'object_key': 'images/Division/outono2024-3adivisao.png.png', 'content_type': None, 'size_bytes': None, 'is_public': True},\n",
       " {'id': 43, 'filename': 'images/Division/13aedicaooutono2-4adivisao.png.png', 'imageable_id': None, 'object_key': 'images/Division/13aedicaooutono2-4adivisao.png.png', 'content_type': None, 'size_bytes': None, 'is_public': True},\n",
       " {'id': 42, 'filename': 'images/Division/porto2.png', 'imageable_id': None, 'object_key': 'images/Division/porto2.png', 'content_type': None, 'size_bytes': None, 'is_public': True},\n",
       " {'id': 41, 'filename': 'images/Division/outono2025-5adivisao.png.png', 'imageable_id': None, 'object_key': 'images/Division/outono2025-5adivisao.png.png', 'content_type': None, 'size_bytes': None, 'is_public': True},\n",
       " {'id': 40, 'filename': 'images/Division/primavera2025-2adivisao.png.png', 'imageable_id': None, 'object_key': 'images/Division/primavera2025-2adivisao.png.png', 'content_type': None, 'size_bytes': None, 'is_public': True},\n",
       " {'id': 39, 'filename': 'images/Division/inverno2023-1adivisao.png.png', 'imageable_id': None, 'object_key': 'images/Division/inverno2023-1adivisao.png.png', 'content_type': None, 'size_bytes': None, 'is_public': True},\n",
       " {'id': 38, 'filename': 'images/Division/outono2022-1adivisao.png.png', 'imageable_id': None, 'object_key': 'images/Division/outono2022-1adivisao.png.png', 'content_type': None, 'size_bytes': None, 'is_public': True},\n",
       " {'id': 37, 'filename': 'images/Division/outono2025-1adivisao.png.png', 'imageable_id': None, 'object_key': 'images/Division/outono2025-1adivisao.png.png', 'content_type': None, 'size_bytes': None, 'is_public': True},\n",
       " {'id': 36, 'filename': 'images/Division/inverno2025-3adivisao.png.png', 'imageable_id': None, 'object_key': 'images/Division/inverno2025-3adivisao.png.png', 'content_type': None, 'size_bytes': None, 'is_public': True},\n",
       " {'id': 35, 'filename': 'images/Division/inverno22025-2adivisao.png.png', 'imageable_id': None, 'object_key': 'images/Division/inverno22025-2adivisao.png.png', 'content_type': None, 'size_bytes': None, 'is_public': True},\n",
       " {'id': 34, 'filename': 'images/Division/outono2025-4adivisao.png.png', 'imageable_id': None, 'object_key': 'images/Division/outono2025-4adivisao.png.png', 'content_type': None, 'size_bytes': None, 'is_public': True},\n",
       " {'id': 33, 'filename': 'images/Division/primavera2025-3adivisao.png.png', 'imageable_id': None, 'object_key': 'images/Division/primavera2025-3adivisao.png.png', 'content_type': None, 'size_bytes': None, 'is_public': True},\n",
       " {'id': 32, 'filename': 'images/Division/inverno2024-3adivisao.png.png', 'imageable_id': None, 'object_key': 'images/Division/inverno2024-3adivisao.png.png', 'content_type': None, 'size_bytes': None, 'is_public': True},\n",
       " {'id': 31, 'filename': 'images/Division/primavera2024-2adivisao.png.png', 'imageable_id': None, 'object_key': 'images/Division/primavera2024-2adivisao.png.png', 'content_type': None, 'size_bytes': None, 'is_public': True},\n",
       " {'id': 30, 'filename': 'images/Division/primavera2023-2adivisao.png.png', 'imageable_id': None, 'object_key': 'images/Division/primavera2023-2adivisao.png.png', 'content_type': None, 'size_bytes': None, 'is_public': True},\n",
       " {'id': 29, 'filename': 'images/Division/2adivisao.png.png', 'imageable_id': None, 'object_key': 'images/Division/2adivisao.png.png', 'content_type': None, 'size_bytes': None, 'is_public': True},\n",
       " {'id': 28, 'filename': 'images/Division/outono2025-2adivisao.png.png', 'imageable_id': None, 'object_key': 'images/Division/outono2025-2adivisao.png.png', 'content_type': None, 'size_bytes': None, 'is_public': True},\n",
       " {'id': 27, 'filename': 'images/Division/primavera2025-5adivisao.png.png', 'imageable_id': None, 'object_key': 'images/Division/primavera2025-5adivisao.png.png', 'content_type': None, 'size_bytes': None, 'is_public': True},\n",
       " {'id': 26, 'filename': 'images/Division/inverno22025-4adivisao.png.png', 'imageable_id': None, 'object_key': 'images/Division/inverno22025-4adivisao.png.png', 'content_type': None, 'size_bytes': None, 'is_public': True},\n",
       " {'id': 25, 'filename': 'images/Division/3adivisao.png.png', 'imageable_id': None, 'object_key': 'images/Division/3adivisao.png.png', 'content_type': None, 'size_bytes': None, 'is_public': True},\n",
       " {'id': 24, 'filename': 'images/Division/inverno22025-3adivisao.png.png', 'imageable_id': None, 'object_key': 'images/Division/inverno22025-3adivisao.png.png', 'content_type': None, 'size_bytes': None, 'is_public': True},\n",
       " {'id': 23, 'filename': 'images/Division/verao2024-3adivisao.png.png', 'imageable_id': None, 'object_key': 'images/Division/verao2024-3adivisao.png.png', 'content_type': None, 'size_bytes': None, 'is_public': True},\n",
       " {'id': 22, 'filename': 'images/Division/verao2023-1adivisao.png.png', 'imageable_id': None, 'object_key': 'images/Division/verao2023-1adivisao.png.png', 'content_type': None, 'size_bytes': None, 'is_public': True},\n",
       " {'id': 21, 'filename': 'images/Division/inverno2025-1adivisao.png.png', 'imageable_id': None, 'object_key': 'images/Division/inverno2025-1adivisao.png.png', 'content_type': None, 'size_bytes': None, 'is_public': True},\n",
       " {'id': 20, 'filename': 'images/Division/outono2-2024.png.png', 'imageable_id': None, 'object_key': 'images/Division/outono2-2024.png.png', 'content_type': None, 'size_bytes': None, 'is_public': True},\n",
       " {'id': 19, 'filename': 'images/Division/outono2-3adivisao.png.png', 'imageable_id': None, 'object_key': 'images/Division/outono2-3adivisao.png.png', 'content_type': None, 'size_bytes': None, 'is_public': True},\n",
       " {'id': 18, 'filename': 'images/Division/primavera2023-1adivisao.png.png', 'imageable_id': None, 'object_key': 'images/Division/primavera2023-1adivisao.png.png', 'content_type': None, 'size_bytes': None, 'is_public': True},\n",
       " {'id': 17, 'filename': 'images/Division/inverno22025-1adivisao.png.png', 'imageable_id': None, 'object_key': 'images/Division/inverno22025-1adivisao.png.png', 'content_type': None, 'size_bytes': None, 'is_public': True},\n",
       " {'id': 16, 'filename': 'images/Division/outono2023-1adivisao.png.png', 'imageable_id': None, 'object_key': 'images/Division/outono2023-1adivisao.png.png', 'content_type': None, 'size_bytes': None, 'is_public': True},\n",
       " {'id': 15, 'filename': 'images/Division/inverno2025-4adivisao.png.png', 'imageable_id': None, 'object_key': 'images/Division/inverno2025-4adivisao.png.png', 'content_type': None, 'size_bytes': None, 'is_public': True},\n",
       " {'id': 14, 'filename': 'images/Division/verao2023-2adivisao.png.png', 'imageable_id': None, 'object_key': 'images/Division/verao2023-2adivisao.png.png', 'content_type': None, 'size_bytes': None, 'is_public': True},\n",
       " {'id': 13, 'filename': 'images/Division/outono22023-2adivisao.png.png', 'imageable_id': None, 'object_key': 'images/Division/outono22023-2adivisao.png.png', 'content_type': None, 'size_bytes': None, 'is_public': True},\n",
       " {'id': 12, 'filename': 'images/Division/inverno2025-2adivisao.png.png', 'imageable_id': None, 'object_key': 'images/Division/inverno2025-2adivisao.png.png', 'content_type': None, 'size_bytes': None, 'is_public': True},\n",
       " {'id': 11, 'filename': 'images/Division/verao2024-1adivisao.png.png', 'imageable_id': None, 'object_key': 'images/Division/verao2024-1adivisao.png.png', 'content_type': None, 'size_bytes': None, 'is_public': True},\n",
       " {'id': 10, 'filename': 'images/Division/outono2024-4adivisao.png.png', 'imageable_id': None, 'object_key': 'images/Division/outono2024-4adivisao.png.png', 'content_type': None, 'size_bytes': None, 'is_public': True},\n",
       " {'id': 9, 'filename': 'images/Division/primavera2025-4adivisao.png.png', 'imageable_id': None, 'object_key': 'images/Division/primavera2025-4adivisao.png.png', 'content_type': None, 'size_bytes': None, 'is_public': True},\n",
       " {'id': 8, 'filename': 'images/Division/outono2022-2adivisao.png.png', 'imageable_id': None, 'object_key': 'images/Division/outono2022-2adivisao.png.png', 'content_type': None, 'size_bytes': None, 'is_public': True},\n",
       " {'id': 7, 'filename': 'images/Division/verao2024-2adivisao.png.png', 'imageable_id': None, 'object_key': 'images/Division/verao2024-2adivisao.png.png', 'content_type': None, 'size_bytes': None, 'is_public': True},\n",
       " {'id': 6, 'filename': 'images/Division/outono22023-1adivisao.png.png', 'imageable_id': None, 'object_key': 'images/Division/outono22023-1adivisao.png.png', 'content_type': None, 'size_bytes': None, 'is_public': True},\n",
       " {'id': 5, 'filename': 'images/Division/primavera2025-1adivisao.png.png', 'imageable_id': None, 'object_key': 'images/Division/primavera2025-1adivisao.png.png', 'content_type': None, 'size_bytes': None, 'is_public': True},\n",
       " {'id': 4, 'filename': 'images/Division/porto.png', 'imageable_id': None, 'object_key': 'images/Division/porto.png', 'content_type': None, 'size_bytes': None, 'is_public': True},\n",
       " {'id': 3, 'filename': 'images/Division/primavera2024-1adivisao.png.png', 'imageable_id': None, 'object_key': 'images/Division/primavera2024-1adivisao.png.png', 'content_type': None, 'size_bytes': None, 'is_public': True},\n",
       " {'id': 2, 'filename': 'images/Division/edicaooutono2024-2adivisao.png.png', 'imageable_id': None, 'object_key': 'images/Division/edicaooutono2024-2adivisao.png.png', 'content_type': None, 'size_bytes': None, 'is_public': True}]"
      ]
     },
     "execution_count": 86,
     "metadata": {},
     "output_type": "execute_result"
    }
   ],
   "source": [
    "get_all_elements_from_table('images')"
   ]
  },
  {
   "cell_type": "code",
   "execution_count": null,
   "metadata": {},
   "outputs": [
    {
     "name": "stdout",
     "output_type": "stream",
     "text": [
      "✅ Added column 'latest' of type 'boolean' to table 'news'.\n"
     ]
    }
   ],
   "source": [
    "#add_column_to_table(table_name='news', column_name='latest', column_type='boolean')"
   ]
  },
  {
   "cell_type": "code",
   "execution_count": null,
   "metadata": {},
   "outputs": [
    {
     "name": "stdout",
     "output_type": "stream",
     "text": [
      "✅ Filled column 'id' in table 'product_attributes_in_product' with sequential values.\n"
     ]
    }
   ],
   "source": [
    "#fill_column_sequentially(table_name='product_attributes_in_product', column_name='id')"
   ]
  },
  {
   "cell_type": "code",
   "execution_count": null,
   "metadata": {},
   "outputs": [
    {
     "data": {
      "text/plain": [
       "[('player_id', 'bigint'),\n",
       " ('match_id', 'bigint'),\n",
       " ('team', 'text'),\n",
       " ('id', 'bigint')]"
      ]
     },
     "execution_count": 21,
     "metadata": {},
     "output_type": "execute_result"
    }
   ],
   "source": [
    "#get_columns_and_types('players_in_match')"
   ]
  },
  {
   "cell_type": "code",
   "execution_count": null,
   "metadata": {},
   "outputs": [
    {
     "name": "stdout",
     "output_type": "stream",
     "text": [
      "Fixing sequence for: product_attribute_values\n",
      "✅ Sequence set for product_attribute_values\n",
      "Fixing sequence for: product_attributes\n",
      "✅ Sequence set for product_attributes\n",
      "Fixing sequence for: product_images\n",
      "✅ Sequence set for product_images\n",
      "Fixing sequence for: backend_app\n",
      "✅ Sequence set for backend_app\n",
      "Fixing sequence for: players_in_match\n",
      "✅ Sequence set for players_in_match\n",
      "Fixing sequence for: product_attribute_values_in_product\n",
      "✅ Sequence set for product_attribute_values_in_product\n",
      "Fixing sequence for: product_attributes_in_product\n",
      "✅ Sequence set for product_attributes_in_product\n",
      "Fixing sequence for: players_in_division\n",
      "✅ Sequence set for players_in_division\n",
      "Fixing sequence for: images\n",
      "✅ Sequence set for images\n",
      "Fixing sequence for: divisions\n",
      "✅ Sequence set for divisions\n",
      "Fixing sequence for: editions\n",
      "✅ Sequence set for editions\n",
      "Fixing sequence for: leagues\n",
      "✅ Sequence set for leagues\n",
      "Fixing sequence for: matches\n",
      "✅ Sequence set for matches\n",
      "Fixing sequence for: order_lines\n",
      "✅ Sequence set for order_lines\n",
      "Fixing sequence for: orders\n",
      "✅ Sequence set for orders\n",
      "Fixing sequence for: users\n",
      "✅ Sequence set for users\n",
      "Fixing sequence for: players\n",
      "✅ Sequence set for players\n",
      "Fixing sequence for: products\n",
      "✅ Sequence set for products\n",
      "Fixing sequence for: news\n",
      "✅ Sequence set for news\n"
     ]
    },
    {
     "data": {
      "text/plain": [
       "True"
      ]
     },
     "execution_count": 13,
     "metadata": {},
     "output_type": "execute_result"
    }
   ],
   "source": [
    "#fix_missing_sequences()"
   ]
  },
  {
   "cell_type": "code",
   "execution_count": 17,
   "metadata": {},
   "outputs": [],
   "source": [
    "def replace_substring_in_column(table_name, column_name, old_substring, new_substring):\n",
    "    \"\"\"\n",
    "    Replaces a substring in all values of a column in the specified table.\n",
    "\n",
    "    Args:\n",
    "        table_name (str): The name of the table to update.\n",
    "        column_name (str): The name of the column to update.\n",
    "        old_substring (str): The substring to be replaced.\n",
    "        new_substring (str): The substring to replace with.\n",
    "\n",
    "    Returns:\n",
    "        int: The number of rows updated.\n",
    "    \"\"\"\n",
    "    query = text(f\"\"\"\n",
    "        UPDATE {table_name}\n",
    "        SET {column_name} = REPLACE({column_name}, :old_substring, :new_substring)\n",
    "    \"\"\")\n",
    "    with pg_engine.begin() as connection:\n",
    "        result = connection.execute(query, {\"old_substring\": old_substring, \"new_substring\": new_substring})\n",
    "        return result.rowcount\n",
    "\n",
    "\n",
    "def add_substring_to_column(table_name, column_name, substring, position=\"append\"):\n",
    "    \"\"\"\n",
    "    Adds a substring to all values of a column in the specified table.\n",
    "\n",
    "    Args:\n",
    "        table_name (str): The name of the table to update.\n",
    "        column_name (str): The name of the column to update.\n",
    "        substring (str): The substring to add.\n",
    "        position (str): Whether to 'append' (default) or 'prepend' the substring.\n",
    "\n",
    "    Returns:\n",
    "        int: The number of rows updated.\n",
    "    \"\"\"\n",
    "    if position == \"prepend\":\n",
    "        expr = f\":substring || {column_name}\"\n",
    "    else:  # append\n",
    "        expr = f\"{column_name} || :substring\"\n",
    "\n",
    "    query = text(f\"\"\"\n",
    "        UPDATE {table_name}\n",
    "        SET {column_name} = {expr}\n",
    "    \"\"\")\n",
    "    with pg_engine.begin() as connection:\n",
    "        result = connection.execute(query, {\"substring\": substring})\n",
    "        return result.rowcount"
   ]
  },
  {
   "cell_type": "code",
   "execution_count": 27,
   "metadata": {},
   "outputs": [
    {
     "data": {
      "text/plain": [
       "69"
      ]
     },
     "execution_count": 27,
     "metadata": {},
     "output_type": "execute_result"
    }
   ],
   "source": [
    "add_substring_to_column('news', 'picture_path','images/Player/', 'prepend')"
   ]
  },
  {
   "cell_type": "code",
   "execution_count": 31,
   "metadata": {},
   "outputs": [
    {
     "data": {
      "text/plain": [
       "13"
      ]
     },
     "execution_count": 31,
     "metadata": {},
     "output_type": "execute_result"
    }
   ],
   "source": [
    "replace_substring_in_column('news', 'cover_path', 'images/', 'images/News/')"
   ]
  },
  {
   "cell_type": "code",
   "execution_count": 74,
   "metadata": {},
   "outputs": [
    {
     "data": {
      "text/plain": [
       "[{'id': 13, 'title': 'Porto Padel League - Novo Site e Loja Oficial', 'cover_path': 'images/portopadelleague-novositeoficial_13.jpg', 'author': 'Direção Porto Padel League', 'text': '<h1>Porto Padel League inaugura novo site oficial em domínio próprio: <a href=\"https://portopadelleague.com\" target=\"_blank\">portopadelleague.com</a></h1>    <p>É com enorme entusiasmo e um profundo sentido de orgulho que anunciamos o lançamento do <strong>novo portal digital da Porto Padel League</strong>, agora alojado no domínio <span class=\"highlight\">exclusivo e definitivo: portopadelleague.com</span>. Esta não é apenas uma atualização — é uma <strong>reinvenção completa da nossa presença online</strong>, projetada para refletir a ambição, o profissionalismo e a excelência da nossa comunidade.</p>    <p>Este feito extraordinário é o resultado de uma <strong>colaboração interdepartamental sem precedentes</strong>, que uniu mentes brilhantes e talento técnico de várias áreas:</p>    <div class=\"section\">     <ul>       <li><strong>💡 UX Designers</strong>: redesenharam a experiência de navegação para garantir <em>acesso fluido e imediato</em> a toda a informação, com o <strong>mínimo de cliques</strong>.</li>       <li><strong>🎨 Design</strong>: nova identidade cromática, <strong>fontes modernas</strong> e um <strong>logótipo totalmente renovado</strong>, que espelha o dinamismo da liga.</li>       <li><strong>🛠️ DevOps</strong>: aplicação de <em>infraestrutura como código</em>, com <strong>deploys automáticos</strong> e máxima estabilidade.</li>       <li><strong>🧠 Desenvolvimento</strong>: backend redesenhado com uma interface <em>mais visual, intuitiva e poderosa</em>, dispensando acesso ao código para tarefas comuns.</li>       <li><strong>🧬 Data Science & IA</strong>: integração de uma ferramenta capaz de <strong>gerar notícias automaticamente</strong>, elevando a eficiência da comunicação.</li>     </ul>   </div>    <h2>🛍️ A Grande Novidade: A Loja Oficial Está Online!</h2>    <p>Como corolário desta atualização histórica, temos o orgulho de anunciar o lançamento da <strong>Loja Porto Padel League</strong>. Totalmente integrada no novo site, esta secção permite-te <strong>encomendar merchandising oficial</strong> — t-shirts, hoodies, bonés e muito mais.</p>    <p>As encomendas serão entregues pelos responsáveis da liga assim que for atingido o número mínimo de pedidos. Prático, direto e com qualidade garantida.</p>    <div class=\"footer\">     <p>Este novo capítulo digital representa muito mais do que uma simples mudança de domínio: é a <strong>materialização de uma visão ambiciosa</strong> para o futuro da Porto Padel League — uma liga que cresce, que evolui, e que se reinventa continuamente.</p>      <p><strong>Visita já <a href=\"https://portopadelleague.com\" target=\"_blank\">portopadelleague.com</a> e descobre uma experiência à altura da paixão que partilhamos.</strong></p>      <p><em>A era digital da liga começou — e é absolutamente gloriosa.</em></p>   </div>    <p class=\"hashtag\">#PortoPadelLeague #NovoDomínio #NovaEra #ExigênciaMáxima #TecnologiaAoServiçoDoDesporto #SomosLiga #Inovação #MerchOficial #UX #DevOps #AI #DesignDeExcelência</p>', 'latest': False, 'cover_image_id': None},\n",
       " {'id': 12, 'title': 'Porto Padel League regressa em grande para a sua 16.ª Edição — com 5 Divisões e prémios inéditos', 'cover_path': 'images/portopadelleagueregressaemgrandeparaasua16.aedicao--com5divisoesepremiosineditos_12.jpg', 'author': 'Carlos GPT', 'text': '<h1>Porto Padel League regressa em grande para a sua 16.ª Edição — com 5 Divisões e prémios inéditos! 🍷🔥</h1>    <p><strong>Porto, 22 de abril –</strong> A espera terminou! A <span class=\"highlight\">Porto Padel League</span> está de volta com mais força do que nunca para o seu <strong>1.º Master de Primavera 🌼☀️</strong>. Esta 16.ª edição marca um momento histórico: <span class=\"highlight\">pela primeira vez de sempre, o campeonato contará com CINCO divisões</span>, refletindo o crescimento imparável da comunidade padelista portuense.</p>    <p>Mas as novidades não ficam por aqui… Pela primeira vez na história da liga, <span class=\"highlight\">um patrocinador oficial junta-se à festa</span> e promete elevar a fasquia da competição: <strong>os campeões da 1.ª e 2.ª Divisão receberão uma caixa de vinho exclusiva</strong>, brindando à sua garra e talento dentro de campo! 🍷🏆</p>    <p>A 1.ª jornada arranca esta segunda-feira, <strong>22 de abril, às 21h30 no PAC</strong>, e traz consigo um cartaz de luxo com os nomes mais sonantes da liga. Eis os gladiadores que hoje entram em campo:</p>    <div class=\"section\">     <h2>🥇 1.ª Divisão</h2>     <ul>       <li>Jony</li>       <li>Miguel SG</li>       <li>Bernardo C</li>       <li>Parodi</li>       <li>Fred</li>       <li>Dinis</li>       <li>Dudas</li>       <li>Nuno M</li>     </ul>   </div>    <div class=\"section\">     <h2>🥈 2.ª Divisão</h2>     <ul>       <li>Diogo L</li>       <li>Kikos</li>       <li>Tio Cuca</li>       <li>Malafaya</li>       <li>Talinho</li>       <li>Pancho</li>       <li>Freitas</li>       <li>Archer</li>     </ul>   </div>    <div class=\"section\">     <h2>🥉 3.ª Divisão</h2>     <ul>       <li>Diogo R</li>       <li>Gonçalo PA</li>       <li>Perneta</li>       <li>Fezas</li>       <li>Damásio</li>       <li>Peras</li>       <li>Afonso</li>       <li>Freddy Trepa</li>     </ul>   </div>    <div class=\"section\">     <h2>💥 4.ª Divisão</h2>     <ul>       <li>Zé Livra</li>       <li>Zema</li>       <li>Trepa</li>       <li>Fred</li>       <li>Rodas</li>       <li>Tomás D</li>       <li>Zé Santos</li>       <li>Ricas</li>     </ul>   </div>    <div class=\"section\">     <h2>🚀 5.ª Divisão</h2>     <ul>       <li>Tomás P</li>       <li>Martinho</li>       <li>Lopo S</li>       <li>Tó Lencastre</li>       <li>Hugo M</li>       <li>Rafael P</li>       <li>Afonso X</li>       <li>Luis Folhadela</li>     </ul>   </div>    <p class=\"footer\"><strong>Com mais divisões, mais talento, mais rivalidade e, agora, mais prémios, a Padel League 16.ª Edição promete ser a mais épica de sempre.</strong></p>   <p class=\"footer\">Quem terá nervos de aço para levantar o troféu e brindar à vitória?</p>   <p class=\"footer\"><em>Que comece o espetáculo. Vamos à bola. Vamos ao padel. Vamos à glória. 💪🎾🍷</em></p>', 'latest': False, 'cover_image_id': None},\n",
       " {'id': 11, 'title': 'Parceria Histórica – Porto Padel League e Quinta da Sardinha de Cima', 'cover_path': 'images/parceriahistorica-portopadelleagueequintadasardinhadecima_11.jpg', 'author': 'Direção da Porto Padel League', 'text': '<h1>Um marco na história da Porto Padel League</h1>   <p class=\"highlight\">     É com profundo orgulho e sentido de ocasião que anunciamos a primeira parceria oficial da nossa liga!   </p>    <div class=\"section\">     <span class=\"emoji\">🍷</span>     <strong>Quinta da Sardinha de Cima</strong> junta-se a nós como patrocinador institucional, elevando esta competição a um novo patamar de distinção.   </div>    <div class=\"section\">     <span class=\"emoji\">🎾</span>     Ao talento e à rivalidade saudável dos nossos atletas, junta-se agora o prestígio de uma marca que personifica elegância, tradição e excelência.   </div>    <div class=\"section\">     <span class=\"emoji\">🏆</span>     Aos vencedores da 1ª e da 2ª Divisão será entregue uma caixa triunfal com três magníficas garrafas de um rosé sublime, símbolo líquido da excelência e da celebração — cortesia da Quinta da Sardinha de Cima.   </div>    <div class=\"section\">     <span class=\"emoji\">🎁</span>     E porque esta parceria é também para a comunidade que constrói a liga todos os dias, todos os jogadores e familiares terão acesso a <strong>17% de desconto</strong> na loja da marca.     <div class=\"code-box\">       Código: <strong>PLPortoQSC</strong><br />       Site: <a href=\"/sponsors/sponsor_click/2\">https://qscima.com/</a>     </div>   </div>    <div class=\"section\">     Esta é mais do que uma colaboração.<br />     <strong>É o início de uma nova era.</strong>   </div>    <footer>     Bem-vindos à <em>Porto Padel League – Powered by Quinta da Sardinha de Cima</em>   </footer>', 'latest': True, 'cover_image_id': None},\n",
       " {'id': 10, 'title': 'A Incrível Ressurreição de João Archer: Quando as Lendas do Padel Se Criam', 'cover_path': 'images/aincrivelressurreicaodejoaoarcher:quandoaslendasdopadelsecriam_10.jpg', 'author': 'Carlos GPT', 'text': '<div>   <style>     h1, h2, h3 {       font-family: \\'Arial\\', sans-serif;       color: #2C3E50;     }     p {       font-family: \\'Georgia\\', serif;       color: #34495E;       font-size: 16px;       line-height: 1.6;     }     .highlight {       color: #E74C3C;       font-weight: bold;     }     .winner {       background-color: #27AE60;       color: white;       padding: 5px 10px;       border-radius: 5px;     }   </style>    <h1>Padel League Porto: Quando Se Apanham Bolas e Se Perdem Pontos</h1>    <h2>Divisão 1: Semelhe no Olimpo, Dudas No Limbo</h2>   <p>Comecemos pelo topo, porque é sempre bom recordar que o <span class=\"highlight\">Semelhe</span> já não compete com os outros, mas sim com a divindade. Com 27 pontos, este líder carismático está a jogar \"à grande e à francesa\", com um desempenho que faz pensar que joga de olhos fechados. Já o <span class=\"highlight\">Dudas</span>, continua firmemente no fundo da tabela. Consta-se que a sua raquete está em fase de reconciliação com as bolas, mas o divórcio parece iminente, sem pontuar.</p>   <p>Resultados da última jornada? Zé Veiga e Fred empataram com <span class=\"highlight\">Cuca e Semelhe</span> (0-0), enquanto <span class=\"highlight\">Miguel SG</span> e Dudas perderam gloriosamente para <span class=\"highlight\">Malafaya e João Perneta</span>. Será que Dudas alguma vez pontuará? Não há casas de apostas abertas para isso.</p>      <h3>Parelhas Próxima Jornada - Divisão 1</h3>   <ul>     <li>Dudas & Miguel SG</li>     <li>Malafaya & João Perneta</li>     <li>Cuca & Semelhe</li>     <li>Zé Veiga & Fred</li>   </ul>   <p>Previsão? O <span class=\"highlight\">Semelhe</span> vai, previsivelmente, ganhar e o <span class=\"highlight\">Dudas</span> vai, previsivelmente, perder.</p>    <h2>Divisão 2: Kikos Impera, Bernardo Surpreende</h2>   <p>Se há uma coisa que o <span class=\"highlight\">Kikos</span> não faz é brincar. A liderança com 22 pontos deixa todos com as favas contadas, mas o <span class=\"highlight\">Bernardo C</span> fez questão de mostrar que não vai ser pêra doce para o líder. Uma vitória apertada contra <span class=\"highlight\">Freitas</span> mostra que não está aqui só para passear a raquete.</p>   <p>Na próxima jornada, <span class=\"highlight\">Gonçalo PA e Kikos</span> vão tentar puxar a brasa à sua sardinha contra <span class=\"highlight\">Carlo e Dinis</span>. Espera-se um jogo difícil para os desafiantes, porque o Kikos não dá espaço para deslizes.</p>    <h3>Parelhas Próxima Jornada - Divisão 2</h3>   <ul>     <li>Pêras & Pancho</li>     <li>Gonçalo PA & Kikos</li>     <li>Carlo & Dinis</li>     <li>Freitas & Bernardo C</li>   </ul>   <p>Previsão? <span class=\"highlight\">Kikos</span> mantém-se firme e o <span class=\"highlight\">Bernardo C</span> pode surpreender mais uma vez.</p>    <h2>Divisão 3: Damásio e Diogo, Reis Temporários?</h2>   <p>O <span class=\"highlight\">Damásio</span> chegou aos 30 pontos e parece que vai deixar os outros a lutar pelos restos. Já o <span class=\"highlight\">Diogo</span>, com 24 pontos, resolveu tirar a semana de folga e não pontuou, o que pode colocar em risco a sua coroa.</p>   <p>O jogo entre <span class=\"highlight\">Ricas e Diogo</span> contra <span class=\"highlight\">Bucas e Talinho</span> promete ser um festival de sarcasmo e oportunidades desperdiçadas. Quem ganhará? Isso só as bolas de cristal poderão dizer.</p>    <h3>Parelhas Próxima Jornada - Divisão 3</h3>   <ul>     <li>Tomás & Damásio</li>     <li>Zema & Rodas</li>     <li>Ricas & Diogo</li>     <li>Bucas & Talinho</li>   </ul>   <p>Previsão? O <span class=\"highlight\">Damásio</span> continua no topo e o <span class=\"highlight\">Diogo</span> pode finalmente acordar.</p>    <h2>Divisão 4: Nuno Machado - O Ditador da Divisão 4</h2>   <p><span class=\"highlight\">Nuno Machado</span> é o tirano supremo, com uns gordos 33 pontos. O <span class=\"highlight\">Afonso</span>, por outro lado, tem ainda a difícil missão de lutar pelo segundo lugar. Curiosamente, o <span class=\"highlight\">João Archer</span> deu sinais de vida, somando 9 pontos e provando que afinal a esperança é a última a morrer, mesmo que a técnica seja a primeira.</p>      <h3>Parelhas Próxima Jornada - Divisão 4</h3>   <ul>     <li>Jonny & Nuno Machado</li>     <li>Dias & Pipo</li>     <li>Pi Magalhaes & João Archer</li>     <li>Trepa & Afonso</li>   </ul>   <p>Previsão? O <span class=\"highlight\">Nuno Machado</span> vai continuar a espalhar o terror, enquanto os outros tentam não tropeçar nos próprios pés.</p>    <h2>Grandes Vencedores da Jornada Segundo Carlos GPT</h2>   <ul>     <li><span class=\"winner\">Divisão 1:</span> Semelhe - Porque vencer, para ele, é como respirar.</li>     <li><span class=\"winner\">Divisão 2:</span> Bernardo C - Uma subida inesperada que até assustou o Kikos.</li>     <li><span class=\"winner\">Divisão 3:</span> Damásio - Porque 30 pontos não se discutem.</li>     <li><span class=\"winner\">Divisão 4:</span> João Archer - A maior surpresa da semana, com uma recuperação miraculosa.</li>   </ul> </div>', 'latest': False, 'cover_image_id': None},\n",
       " {'id': 9, 'title': 'Os Imperadores do Padel: A Ascensão de Gigantes e a Queda de Mortais na Segunda Jornada', 'cover_path': 'images/osimperadoresdopadel:aascensaodegiganteseaquedademortaisnasegundajornada_9.jpg', 'author': 'Carlos GPT', 'text': '<div>   <style>     body {       font-family: Arial, sans-serif;       color: #333;       line-height: 1.6;     }     h1, h2, h3 {       color: #0056b3;     }     .highlight {       background-color: #ffeb3b;     }   </style>    <h1>Padel League Porto: Entre a Glória e o Desespero</h1>    <h2>Divisão 1: Miguel SG, o Meteoro da Semana</h2>   <p>Na Divisão 1, Miguel SG foi o grande destaque da semana. Com uma performance avassaladora de 9.0 pontos, deixou todos de boca aberta. Fred, apesar de partilhar os mesmos 9.0 pontos totais, mostrou-se inconsistente, acumulando apenas 4.5 pontos por jornada. Semelhe, como seria de esperar, mantém-se firme no topo com 15.0 pontos, mas parece ter abrandado ligeiramente. Já Dudas, coitado, continua sem pontuar, solidificando o seu lugar como o eterno 8º.</p>    <h3>Parelhas Próxima Jornada - Divisão 1</h3>   <p>Dudas & Fred</p>   <p>Cuca & Malafaya</p>   <p>Semelhe & João Perneta</p>   <p>Miguel SG & Zé Veiga</p>    <p><strong>Previsão:</strong> Miguel SG e Semelhe são os favoritos da próxima jornada, mas Fred terá de se esforçar se quiser escapar da sombra do meteoro Miguel.</p>    <h2>Divisão 2: Kikos no Topo, Bernardo em Queda</h2>   <p>Kikos continua a dominar a Divisão 2 com uns robustos 15.0 pontos, enquanto Pancho, Dinis e Gonçalo PA estão todos a lutar pelo segundo lugar, empatados com 10.0 pontos. A grande surpresa (ou desilusão) da jornada foi Bernardo C, que não conseguiu pontuar, mantendo-se com 6.0 pontos. Freitas, por sua vez, ainda luta pela sobrevivência com 5.0 pontos, mas terá de melhorar se quiser sair do fundo da tabela.</p>    <h3>Parelhas Próxima Jornada - Divisão 2</h3>   <p>Freitas & Carlo</p>   <p>Gonçalo PA & Pancho</p>   <p>Bernardo C & Dinis</p>   <p>Kikos & Pêras</p>    <p><strong>Previsão:</strong> Kikos continuará a sua caminhada de glória, enquanto Bernardo C precisa urgentemente de uma vitória para não perder o ritmo dos primeiros lugares.</p>    <h2>Divisão 3: Damásio e Diogo, Os Reis Temporários</h2>   <p>Damásio e Diogo continuam a partilhar o trono da Divisão 3, ambos com 15.0 pontos, enquanto o pelotão atrás deles luta para não perder o contacto. Tomás, Rodas e Talinho, com 10.0 pontos cada, mantêm-se competitivos, mas Zema e Ricas parecem estar a disputar entre si o título de pior jogador da divisão, com 4.0 e 0.0 pontos respetivamente.</p>    <h3>Parelhas Próxima Jornada - Divisão 3</h3>   <p>Bucas & Zema</p>   <p>Tomás & Diogo</p>   <p>Damásio & Ricas</p>   <p>Talinho & Rodas</p>    <p><strong>Previsão:</strong> Damásio e Diogo estão imparáveis, mas a verdadeira luta será entre Tomás, Talinho e Rodas para ver quem consegue aproximar-se dos líderes.</p>    <h2>Divisão 4: Nuno Machado, o Tirano da Quarta Divisão</h2>   <p>Nuno Machado continua a ser a força dominante na Divisão 4, liderando com 15.0 pontos e uma performance que faz tremer os adversários. Trepa mantém-se no segundo lugar com 10.0 pontos, enquanto Afonso segue de perto com 9.0. Joao Archer, por outro lado, ainda não conseguiu pontuar, continuando na lanterninha da classificação com 0.0 pontos.</p>    <h3>Parelhas Próxima Jornada - Divisão 4</h3>   <p>Joao Archer & Dias</p>   <p>Pi Magalhaes & Pipo</p>   <p>Nuno Machado & Afonso</p>   <p>Jonny & Trepa</p>    <p><strong>Previsão:</strong> Nuno Machado continua a ser o grande favorito, mas Trepa e Afonso vão certamente tentar complicar-lhe a vida. Joao Archer só espera conseguir finalmente um ponto.</p>    <h2>Grandes Vencedores da Jornada Segundo Carlos GPT</h2>   <p><span class=\"highlight\">Divisão 1:</span> Miguel SG. Numa exibição de pura classe, acumulou 9.0 pontos e mostrou que está aqui para incomodar os líderes.</p>   <p><span class=\"highlight\">Divisão 2:</span> Kikos. Continua inabalável no topo, não dando hipótese aos seus adversários.</p>   <p><span class=\"highlight\">Divisão 3:</span> Damásio e Diogo. Juntos, continuam a dominar a divisão sem dar espaço para surpresas.</p>   <p><span class=\"highlight\">Divisão 4:</span> Nuno Machado. A sua liderança é inquestionável e continua a fazer tremer os adversários.</p> </div>', 'latest': False, 'cover_image_id': None},\n",
       " {'id': 8, 'title': 'Rumo ao Pódio: A Odisseia Semanal da Padel League Porto', 'cover_path': 'images/rumoaopodio:aodisseiasemanaldapadelleagueporto_8.jpg', 'author': 'Carlos GPT', 'text': '<div>   <style>     .headline {       font-size: 24px;       font-weight: bold;       margin-top: 20px;     }     .subheadline {       font-size: 18px;       font-weight: bold;       margin-top: 15px;       color: darkred;     }     .content {       font-size: 16px;       margin-top: 10px;     }     .highlight {       font-style: italic;       font-weight: bold;     }     .conclusion {       font-weight: bold;       font-size: 18px;       margin-top: 20px;     }   </style>    <div class=\"headline\">Rumo ao Pódio: A Odisseia Semanal da Padel League Porto</div>    <div class=\"content\">     Chegámos à primeira jornada da nossa amada Padel League Porto, e, como sempre, a vida não dececiona: grandes vitórias, derrotas humilhantes e um punhado de performances que nos fazem perguntar se alguns destes atletas vêm mesmo para jogar ou apenas para apanhar sol. Vamos então ao resumo da jornada, onde a bola até pode não ter memória, mas nós temos... e estamos aqui para lembrar tudo.   </div>    <div class=\"subheadline\">Divisão 1: Semelhe, o Todo-Poderoso... e os Outros</div>      <div class=\"content\">     Semelhe, o homem que já nasceu com uma raquete na mão, continua a sua epopeia ininterrupta. Venceu tudo e todos, acumulando um colossal total de 9 pontos, uma performance tão irrepreensível que até os adversários desistem a meio. Desta vez, esmagou Miguel SG com um 12-0 que deixou os espectadores a perguntar se o Miguel ainda tem força para voltar na próxima semana.     <br><br>     Nos restantes jogos, Malafaya e Zé Veiga tentaram encurtar a distância para o trono, mas a verdade é que a diferença é tão abismal que até o Dudas, que ainda está para pontuar, se sentiu mais próximo do topo. Quanto ao João Perneta, fiel ao seu nome, pernetou para o 4º lugar. Um empate? Talvez, mas a distância para Semelhe é igual à das obras de Santa Engrácia.   </div>    <div class=\"subheadline\">Divisão 2: Um Mar de Empates e Gritos de Esperança</div>    <div class=\"content\">     A 2ª divisão trouxe-nos algo que só poderíamos chamar de “batalha de teimosos”. Todos querem, ninguém consegue. Bernardo C, Dinis, Gonçalo PA e Kikos, todos eles com 6 pontos, encheram as quadras de suores e dores musculares. O Bernardo C, que caiu da 1ª divisão, já começa a perceber que o nível cá em baixo não é pêra doce.     <br><br>     A dupla Freitas e Pancho, pelo contrário, andou résvés Campo de Ourique a somar pontos, terminando com um palpitante 1-1. Um jogo onde se conseguiu a façanha de empatar até nos erros.   </div>    <div class=\"subheadline\">Divisão 3: Drama, Surpresas e Zero Glória</div>      <div class=\"content\">     A história aqui é simples: Damásio e Diogo continuam a sua caminhada triunfal, mas não sem drama. Venceram, sim, mas foi um 6-5 que lhes deve ter custado meses de vida. Talinho e Tomás, por sua vez, não perderam a esperança. Não venceram, mas também não são últimos. Ricas e Bucas, no entanto, proporcionaram-nos um espetáculo raro: perderam e empataram na mesma jornada, num 0-0 de fazer qualquer adepto questionar o propósito da vida.     <br><br>     Zema? Bem, ele continua sem pontuar. Se há algo certo nesta liga é que o Zema é o eterno 8º lugar. Pode não ser o melhor, mas pelo menos é consistente.   </div>    <div class=\"subheadline\">Divisão 4: Afonso e os Pobres Mortais</div>    <div class=\"content\">     Afonso passeou-se pela 4ª divisão como um rei numa procissão. Com 9 pontos no bolso, não houve Trepa ou Pipo que lhe fizesse frente. Quem também andou bem foram Nuno Machado e Pi Magalhães, que tentaram, sem sucesso, destronar o líder. No entanto, Pi até se saiu melhor que o Jonny e o João Archer, que continuam sem somar um único ponto. Jonny, em particular, parece estar mais empenhado em reformar-se do que em jogar, tal o desempenho apático que nos proporcionou.   </div>    <div class=\"conclusion\">Grandes Vencedores da Jornada segundo Carlos GPT</div>    <div class=\"content\">     O prémio de maior vencedor da jornada vai, sem surpresas, para <span class=\"highlight\">Semelhe</span> na 1ª divisão, que continua a não dar hipótese a ninguém. Já na 4ª divisão, <span class=\"highlight\">Afonso</span> domina como um verdadeiro deus do padel, enquanto na 2ª divisão, <span class=\"highlight\">Bernardo C</span> lidera um pelotão de empatados que ainda não percebeu que o empate não é vitória. E claro, não podemos esquecer <span class=\"highlight\">Damásio</span> e <span class=\"highlight\">Diogo</span>, que na 3ª divisão fazem a sua caminhada de sobrevivência, agarrados ao topo com unhas e dentes.   </div>  </div>', 'latest': False, 'cover_image_id': None},\n",
       " {'id': 7, 'title': 'Que comece o espetáculo: As primeiras duplas da 12ª Edição da Padel League Porto', 'cover_path': 'images/quecomeceoespetaculo:asprimeirasduplasda12aedicaodapadelleagueporto_7.jpg', 'author': 'Carlos GPT', 'text': '<div style=\"font-family: Arial, sans-serif; line-height: 1.6; color: #333;\">     <h2 style=\"color: #2c3e50;\">Que comece o espetáculo: A 12ª Edição da Padel League Porto está no ar!</h2>      <p style=\"font-size: 14px; color: #7f8c8d;\">Porto, 17 de setembro de 2024</p>      <p><strong>Outono chegou e, com ele, a 12ª edição da gloriosa Padel League Porto!</strong> Este torneio, mais amado do que pastel de nata acabado de sair do forno, está de volta, maior e mais confuso do que nunca. Se nas edições anteriores já tínhamos drama e competitividade ao rubro, este ano acrescentamos uma pitada extra de caos: 8 novos guerreiros do padel, uma divisão extra para dar mais dores de cabeça, e um novo templo para os nossos deuses de raquete, o ilustre Porto Athletic Club (PAC).</p>      <h3 style=\"color: #2980b9;\">Uma Liga Maior... e Mais Confusa!</h3>      <p>O crescimento, como sabem, vem sempre com os seus espinhos. Nesta edição, os organizadores, esses santos padelistas que nos aturam, enfrentaram a dura realidade de que nem todos os jogadores sabem ler (ou, pelo menos, responder a sondagens). As inscrições foram um desafio digno de Hércules, com os atletas a contribuírem para a confusão ao ignorarem essas \"triviais\" formalidades. Mas, apesar de tudo, a edição de outono de 2024 vai arrancar com 32 guerreiros prontos a suar a camisola.</p>      <h3 style=\"color: #2980b9;\">1ª Divisão: Os Campeões Voltaram... ou Não?</h3>      <p><em>Duplas:</em></p>     <ul>         <li><strong>Miguel SG & João Perneta</strong></li>         <li><strong>Malafaya & Zé Veiga</strong></li>         <li><strong>Cuca & Fred</strong></li>         <li><strong>Dudas & Semelhe</strong></li>     </ul>      <p>A 1ª divisão traz consigo a pompa dos campeões, mas já começamos com duas baixas: Dudas e o tio Cuca, esses astros do padel, decidiram que a primeira jornada não era digna da sua presença. Os restantes, incluindo o Zé e o Perneta, prontos para o seu primeiro duelo desde a sua promoção, vão carregar o facho e tentar manter a glória da divisão.</p>      <h3 style=\"color: #2980b9;\">2ª Divisão: A Divisão dos Pontuais</h3>      <p><em>Duplas:</em></p>     <ul>         <li><strong>Kikos & Dinis</strong></li>         <li><strong>Carlo & Pêras</strong></li>         <li><strong>Freitas & Pancho</strong></li>         <li><strong>Gonçalo PA & Bernardo C</strong></li>     </ul>      <p>Surpreendentemente, a 2ª divisão, sempre vista como a irmã do meio da liga, é a única a apresentar-se em pleno. Todos os gladiadores estão prontos para a batalha! Bernardo Castro, que desceu da 1ª divisão, procura redimir-se, enquanto Pêras e Dinis, recentemente promovidos, querem provar que não estão aqui para brincar.</p>      <h3 style=\"color: #2980b9;\">3ª Divisão: A Estável, com Uma Pequena Ausência</h3>      <p><em>Duplas:</em></p>     <ul>         <li><strong>Damásio & Rodas</strong></li>         <li><strong>Zema & Ricas</strong></li>         <li><strong>Bucas & Diogo</strong></li>         <li><strong>Tomás & Talinho</strong></li>     </ul>      <p>Na 3ª divisão, todos menos o Bucas estão prontos para a ação. Uma divisão sólida, mas será que a falta do Bucas será o desequilíbrio necessário para criar algum drama? Veremos.</p>      <h3 style=\"color: #2980b9;\">4ª Divisão: O Reino dos Retornados</h3>      <p><em>Duplas:</em></p>     <ul>         <li><strong>João Archer & Afonso</strong></li>         <li><strong>Trepa & Dias</strong></li>         <li><strong>Jonny & Pipo</strong></li>         <li><strong>Pi Magalhães & Nuno Machado</strong></li>     </ul>      <p>A divisão mais recente e, sem dúvida, a mais aleatória de todas. Com o regresso de caras bem conhecidas como Afonso, Jonny e Pipo, esta divisão promete surpresas. João Archer e Jonny, no entanto, decidiram que esta jornada não merece a sua estreia.</p>      <p>Assim se inicia mais uma jornada épica da Padel League Porto! Que os deuses do padel estejam convosco... e que respondam às sondagens da próxima vez!</p>      <p style=\"font-style: italic; font-size: 12px;\">Até à próxima, caros leitores! Que o padel esteja sempre convosco... e que os vossos smashes sejam tão certeiros como as piadas do Carlos! 🎾</p> </div>', 'latest': False, 'cover_image_id': None},\n",
       " {'id': 6, 'title': 'Odisseia das Raquetes: Deuses e Mortais na Alvorada da 7ª Padel League Porto', 'cover_path': 'images/odisseiadasraquetes:deusesemortaisnaalvoradada7apadelleagueporto_6.jpg', 'author': 'Carlos GPT', 'text': '<style> .date {         font-weight: bold;     }       .highlighted {         color: #444; /* Dark gray color */         font-weight: bold;     }      .signature {         text-align: right;         font-style: italic;         margin-top: 2rem;     } </style> <p class=\"date\">Porto, 11 de outubro de 2023</p> <article class=\"news-article\">     <h3>A Epopeia Recomeça: Ascensões e Quedas no Divino Jogo do Padel</h3>     <p>Ah, o esplendoroso palco da Padel League Porto desdobra-se uma vez mais, e eis que as cortinas se alçam para a 7ª Edição desta grandiosa ópera desportiva. Dudas Brito, ou deveríamos dizer Faro, uma entidade única de talento bifurcado, está prestes a navegar mais uma vez pelo oceano de borracha e rede. Será que sua bússola apontará para a vitória ou o arrastará para o triângulo das Bermudas da segunda divisão?</p>     <p>Neste interlúdio de deuses e mortais, Jony Magalhães, o colosso da última temporada, não é menos que Zeus no Olimpo do padel. Seu raio, uma raquete imparável; seu trovão, o eco de vitórias passadas. Mas o Olimpo não é só feito de néctar e ambrosia; a pressão de repetir tais feitos é o seu novo némesis.</p>     <p>Na arena dos aspirantes, temos um caldeirão de esperanças e sonhos desfeitos, onde Pipo e Peras, nossos infelizes heróis, vão tentar não ser os últimos da fila no baile do padel. E que dizer de Filipe, o Grande Ausente, que mais faltou do que compareceu, numa estratégia que alguns poderiam confundir com genialidade, mas que outros chamariam simplesmente de... preguiça?</p>     <p>Pancho, agora na companhia do recém-chegado Lopo, terá que dançar a dança dos que lutam para não se afogar em um mar de mediocridade. E que maré alta os espera!</p>     <p>Ah, mas a ironia da vida padelística é que, por mais altos que sejam os saltos e por mais espetaculares que sejam as jogadas, no final, todos servem sob a mesma lona do circo. E assim, caros leitores, apertem os vossos cintos, pois a bola vai voar, as raquetes vão cantar, e o sagrado jogo do Padel continuará a nos surpreender, a nos divertir e, certamente, a nos confundir, enquanto nos perguntamos: “Mas afinal, quem deixou estes palhaços no campo?”</p>     <p class=\"signature\">Assina, com uma pena imbuída de tinta irônica e um sorriso dissimulado nos lábios, Carlos GPT, o cronista inigualável da Padel League Porto.</p> </article>', 'latest': False, 'cover_image_id': None},\n",
       " {'id': 5, 'title': 'Guerras e Paz no Palco Sutil da Dramática Padelândia', 'cover_path': 'images/guerrasepaznopalcosutildadramaticapadelandia_5.jpg', 'author': 'Carlos GPT', 'text': '<style>     .date {         font-weight: bold;     }      .highlighted {         color: #444; /* Dark gray color */         font-weight: bold;     } </style> <p class=\"date\">Porto, 11 de outubro de 2023</p>     <h3>A Dança Intrigante dos Deuses Padelísticos: Dudas e João Perneta</h3>     <p>Ah, os deuses nos oferecem um espetáculo! Dudas e João Perneta, criaturas elevadas de um reino onde as raquetes tocam o céu, continuam a surpreender-nos com suas proezas e suas desventuras. Dudas, que celebrou seu aniversário no passado domingo, dia 8 de outubro, com um desempenho constante, embora não isento de suas próprias calamidades, move-se com uma certa majestade adquirida através das tempestades e bonanças de sua carreira. E o João Perneta, cujas partituras soam ora um requiem, ora uma ode à vitória, provoca-nos a pensar: será que os deuses riem e choram tal qual os homens?</p>      <h3>As Glórias e os Desastres do Panteão Secundário: Malafaya</h3>     <p>Aqui, na segunda divisão, as almas mais mortais jogam, mas oh, que espetáculo eles também nos oferecem! Malafaya, como o soberano de um domínio por vezes esquecido, carrega o manto da liderança. Não sabemos se os deuses o favorecem ou se ele, em sua sábia humanidade, encontrou a fórmula secreta para ambrosia que o alimenta na batalha. Seu desempenho sereno deixa-nos a pensar, o que vale mais, a paz na vitória ou a paixão na derrota?</p>      <h3>Sob as Asas de Ícaro: Pipo e Pancho em Queda Livre</h3>     <p>Ah, os pobres Pipo e Pancho! Foram eles tocados pela ira divina ou simplesmente cruzaram os céus demasiadamente perto do sol? Pipo, com a sua modesta pontuação, talvez nos lembre de que, mesmo no Olimpo, há lágrimas. E Pancho, ah! A sua trajetória flutuante faz-nos questionar: será que os deuses, em sua infinita sabedoria e crueldade, já determinaram o seu destino, ou haverá espaço para redenção nas quadras divinas?</p>      <h3>O Coro dos Substitutos: Harmonia ou Desafinação?</h3>     <p>E quem poderia esquecer os substitutos, aqueles cujas sombras sussurram na liga e cujas presenças, quando manifestas, trazem tanto o caos quanto a ordem? Eles, na sua existência pendente, lembram-nos de que mesmo os deuses precisam de uma pausa, e quem somos nós para negar aos mortais a chance de brilhar... ou de implodir?</p>      <h3>A Lamentação da Alma Padelística</h3>     <p>Cada embate, cada riso, cada soluço nesse vasto universo padelístico desenha um quadro mais vasto e profundo do que a simples disputa de pontos e posições. Aqui, ó leitores, testemunhamos a tragicomédia da existência humana, orquestrada nos saltos, nas bolas fora, nos triunfos e nos deslizes.</p>      <p>A crítica, caros amantes do padel, é, portanto, dirigida não apenas aos jogadores, mas aos próprios deuses que orquestram tais eventos. E nos perguntamos: numa liga tão deliciosamente complexa e caótica, não somos todos, em nossa humana imperfeição, dignos tanto do aplauso quanto da reprimenda?</p>      <p>Assim, olhamos para frente, na esperança e no temor do que está por vir, sabendo que cada ponto ganho e perdido é mais um verso na odisseia eterna dos deuses e dos homens na sagrada arte do Padel.</p>', 'latest': False, 'cover_image_id': None},\n",
       " {'id': 4, 'title': 'Duelos e Duetos de uma Dança Padelística', 'cover_path': 'images/dueloseduetosdeumadancapadelistica_4.jpg', 'author': 'Carlos GPT', 'text': '<style>     .date {         font-weight: bold;     }      .highlighted {         color: #444; /* Dark gray color */         font-weight: bold;     } </style> <div id=\"padelLeague\">     <p class=\"date\">Porto, 27 de setembro de 2023</p>     <h3>Crónica de uma Jornada de Altos e Baixos na Padel League Porto</h3>     <p>O palco do nosso adorado padel continua a acolher verdadeiras odisseias onde a coragem e a comédia se entrelaçam numa dança inebriante, entre voos de raquetes e bailes de bolas.</p>          <h3>O Virtuoso João Perneta e as Divagações de Dudas</h3>     <p><span class=\"highlighted\">João Perneta</span>, o maestro da pacificidade, voltou a encantar, fazendo os muros aplaudirem em harmonia. Este maestro do padel, com <strong>22 pontos</strong>, demonstrou novamente que é possível dançar na tempestade e, ainda assim, arrancar uma vitória por 8-7 contra Dudas e Carlo, fazendo soar as mais belas notas desta sinfonia padelística.</p>     <p>Mas, neste balé, Dudas divagou como um verdadeiro Platão, entremeando reflexões filosóficas com golpes de génio, deixando-nos a contemplar, não só a beleza do jogo mas também as profundezas do universo padelístico.</p>          <h3>A Sabedoria de Cuca e as Maravilhas de Miguel SG</h3>     <p><span class=\"highlighted\">Cuca</span>, o sábio venerável, juntou forças com <span class=\"highlighted\">Miguel SG</span>, criando um dueto onde a harmonia e a poesia da bola reinaram supremas. Com a experiência de <span class=\"highlighted\">Cuca</span> e a sublime colocação de bola de <span class=\"highlighted\">Miguel</span>, conquistaram uma vitória emocionante de 8-7 contra Dudas e Carlo, revelando a poesia oculta no coração do padel.</p>          <h3>Malafaya: O Estratega da Segunda Divisão e Pipo no caminho da sombra à luz</h3>     <p>Na encantadora segunda divisão, <span class=\"highlighted\">Malafaya</span>, o astuto canhoto, continua a demonstrar a arte suprema do padel, ensinando-nos, a cada jogada, o verdadeiro significado da estratégia e da sabedoria neste nosso pequeno universo.</p>     <p><span class=\"highlighted\">Pipo</span>, partindo de um início de liga sem pontos, protagonizou, juntamente com Pancho, um ressurgimento épico esta jornada. Eles quebraram a invencibilidade de <span class=\"highlighted\">Malafaya</span> e impuseram um 11-2 a Pêras e Filipe, somando <strong>6 pontos valiosos</strong>. Este notável volte-face parece ecoar as sábias palavras de Jesus: \"Os últimos serão os primeiros\", mostrando que, no campo de padel, a determinação e a resiliência podem, de facto, reverter os papéis e trazer à luz verdadeiros momentos de glória.</p>          <h3>O Clímax e os Protagonistas da Jornada</h3>     <p>Aos que demonstraram uma paixão e maestria incomparáveis, como <span class=\"highlighted\">João Perneta</span> e <span class=\"highlighted\">Malafaya</span>, rendemos nossos mais calorosos aplausos e os consagramos como <em>\\'Grandes Vencedores da Jornada segundo Carlos GPT\\'</em>. Eles são a verdadeira essência deste magnífico desporto, representando tudo o que há de mais nobre e belo no padel!</p>     <p>Para aqueles cujas almas foram amaldiçoadas pela derrota, fica o desejo de que a resiliência os conduza a jornadas mais gloriosas e que os deuses do padel possam ser menos impiedosos e mais benevolentes na próxima dança!</p> </div>', 'latest': False, 'cover_image_id': None},\n",
       " {'id': 3, 'title': 'Jornada 2 - Onde Heróis Caem e os Improváveis Dominam', 'cover_path': 'images/jornada2-ondeheroiscaemeosimprovaveisdominam_3.jpg', 'author': 'Carlos GPT', 'text': '<style>     .date {         font-weight: bold;     }     .highlighted {         color: #444; /* Dark gray color */         font-weight: bold;     } </style> <div>     <p class=\"date\">Porto, 18 de setembro de 2023</p>     <p>Bem-vindos a mais um resumo épico da Jornada 2 da Padel League Porto. Liguem os ventiladores, que hoje a coisa aqueceu!</p><p>Na primeira divisão, o show foi patrocinado por <span class=\"highlighted\">Semelhe</span> e <span class=\"highlighted\">Miguel SG</span> que, aparentemente, se tornaram inseparáveis e atingiram um entendimento espiritual, vencendo dois dos seus três jogos. No entanto, a surpresa da noite foi a dupla <span class=\"highlighted\">Joao perneta</span> e <span class=\"highlighted\">Dudas</span>, que, apesar do nome peculiar de Joao, provaram que ter um perneta na equipa é só um pormenor. Venceram dois jogos e empataram um. Quem diria?!</p>  <p>Já na segunda divisão, <span class=\"highlighted\">Malafaya</span> e <span class=\"highlighted\">Kikos</span> mostraram que o nome pode soar a cantores de kizomba, mas o talento deles é mesmo no padel. Três vitórias para esta dupla, que promete não deixar os seus fãs desapontados. E falando de desapontamentos, olá <span class=\"highlighted\">Pipo</span> e <span class=\"highlighted\">Pêras</span>, tudo bem por aí? A defesa deles parece um queijo suíço, cheia de buracos.</p>  <p>Uma nota de apreço para <span class=\"highlighted\">Cuca</span>. Sabemos que foi difícil, com tantas trocas de parceiro, mas não desististe. Pelo menos ganhaste um jogo!</p>  <p>Olhando para a jornada que se avizinha, todos os olhos estarão no combate titânico entre <span class=\"highlighted\">Semelhe</span> e <span class=\"highlighted\">Joao perneta</span> contra <span class=\"highlighted\">Cuca</span> e <span class=\"highlighted\">Miguel SG</span>. E na segunda divisão, bem... esperamos que <span class=\"highlighted\">Pipo</span> consiga finalmente marcar mais do que o número de pessoas na sua lista de fãs, quando enfrentar a dupla <span class=\"highlighted\">Bernardo C</span> e <span class=\"highlighted\">Kikos</span>.</p>  <p>Baseando-se nos últimos resultados e na tabela de classificações, parece que <span class=\"highlighted\">Malafaya</span> tem tudo para continuar a sua saga dominadora na segunda divisão. Na primeira, o drama está garantido, mas <span class=\"highlighted\">Joao perneta</span> e <span class=\"highlighted\">Dudas</span> estão a mostrar que o céu é o limite.</p>  <p>Os grandes vencedores desta jornada, segundo Carlos GPT, são, sem dúvida, <span class=\"highlighted\">Semelhe</span> e <span class=\"highlighted\">Miguel SG</span> na primeira divisão, e a imparável dupla de kizombeiros <span class=\"highlighted\">Malafaya</span> e <span class=\"highlighted\">Kikos</span> na segunda. O motivo? Bem, é simples: ambos mostraram que em padel, tal como na vida, talento supera tudo, mesmo os nomes mais peculiares ou ritmos dançantes.</p>  <p>E como sempre despeço-me com um \\'No Padel e no amor, há uma coisa certa: nunca subestimem o efeito de um bom slice,\\' Carlos GPT, o vosso guia sarcástico nas quadras e na diversão!</p></div>', 'latest': False, 'cover_image_id': None},\n",
       " {'id': 2, 'title': 'Surpresas e Reviravoltas Marcam a Jornada Inicial da Padel League Porto', 'cover_path': 'images/surpresasereviravoltasmarcamajornadainicialdapadelleagueporto_2.jpg', 'author': 'Carlos GPT', 'text': '<style>     .date {         font-weight: bold;     }     .highlighted {         color: #444; /* Dark gray color */         font-weight: bold;     } </style>  <div>     <p class=\"date\">Porto, 13 de setembro de 2023</p>     <p>Após a animada Jornada 1 da Padel League Porto, é altura de fazer um resumo das ações mais quentes nas quadras e olhar para o que se avizinha!</p>      <p>Na primeira divisão, <span class=\"highlighted\">Joao perneta</span> e <span class=\"highlighted\">Miguel SG</span> deram um show, vencendo dois dos seus jogos, incluindo uma vitória renhida sobre a poderosa dupla <span class=\"highlighted\">Cuca</span> e <span class=\"highlighted\">Carlo</span>. No entanto, a dupla <span class=\"highlighted\">Jonny</span> e <span class=\"highlighted\">Dudas</span> roubou o espetáculo com três vitórias espetaculares, incluindo uma dominante sobre Cuca e Carlo, que tiveram uma jornada difícil.</p>      <p>Mudando o foco para a segunda divisão, foi um festival de <span class=\"highlighted\">Malafaya</span> e <span class=\"highlighted\">Bernardo C</span>. Com três vitórias impressionantes, esta dupla demonstrou que está aqui para ficar e, sem dúvida, para aspirar ao topo. Por outro lado, <span class=\"highlighted\">Pancho</span> e <span class=\"highlighted\">Pêras</span> tiveram uma jornada complicada com apenas um empate. De notar que <span class=\"highlighted\">Freitas</span> parece ter encontrado a sua forma, vencendo um dos seus jogos com uma margem confortável.</p>      <p>Olhando para o futuro e para a Jornada 2, os jogos a seguir prometem agitar as coisas na tabela. Na primeira divisão, todos os olhos estarão em <span class=\"highlighted\">Semelhe</span> e <span class=\"highlighted\">Miguel SG</span> enquanto enfrentam tanto <span class=\"highlighted\">Jonny</span> e <span class=\"highlighted\">Carlo</span> como <span class=\"highlighted\">Cuca</span> e <span class=\"highlighted\">Talinho</span>. Na segunda divisão, será interessante ver como <span class=\"highlighted\">Pipo</span> e <span class=\"highlighted\">Pêras</span> enfrentam os líderes <span class=\"highlighted\">Bernardo C</span> e <span class=\"highlighted\">Malafaya</span>.</p>      <p>Baseando-se na Jornada 1 e na tabela de classificações, parece que <span class=\"highlighted\">Bernardo C</span> e <span class=\"highlighted\">Malafaya</span> estão bem posicionados para continuar a sua série de vitórias na segunda divisão. Na primeira divisão, a pressão está em <span class=\"highlighted\">Cuca</span> e <span class=\"highlighted\">Carlo</span> para reverter a sua sorte.</p>      <p>Para Carlos GPT, os grandes vencedores da Jornada 1 são sem dúvida <span class=\"highlighted\">Jonny</span> e <span class=\"highlighted\">Dudas</span> na primeira divisão, e <span class=\"highlighted\">Malafaya</span> e <span class=\"highlighted\">Bernardo C</span> na segunda divisão. Ambas as duplas mostraram técnica, resiliência e uma química invejável em quadra.</p>      <p>E como sempre despeço-me com um \\'No Padel e no amor, há uma coisa certa: um bom parceiro faz toda a diferença,\\' Carlos GPT, o vosso guia nas quadras e na diversão!</p> </div>', 'latest': False, 'cover_image_id': None},\n",
       " {'id': 1, 'title': 'Padel League Porto - Edição de Outono 2023', 'cover_path': 'images/padelleagueporto-edicaodeoutono2023_1.jpg', 'author': 'Carlos GPT', 'text': '<style>     .date {         font-weight: bold;     }      .highlighted {         color: #444; /* Dark gray color */         font-weight: bold;     } </style>  <div>     <p class=\"date\">Porto, 6 de setembro de 2023</p>     <p>Está na hora de colocar as sapatilhas, preparar as raquetes e aquecer os músculos, pois a 6ª edição da Padel League Porto, edição de outono, está prestes a começar. Os amantes deste desporto apaixonante estão prontos para vibrar com mais uma temporada repleta de reviravoltas e ação nas quadras!</p>      <p>A grande surpresa desta edição é a chegada de <span class=\"highlighted\">Carlo</span> à primeira divisão, enquanto <span class=\"highlighted\">Jonny</span> faz um regresso emocionante. <span class=\"highlighted\">Cuca</span>, o campeão da última temporada, é alvo de todos os olhares, pois defende o seu título com unhas e dentes.</p>      <p>O destaque vai para <span class=\"highlighted\">Filipe</span>, que volta à competição após uma ausência na temporada anterior, e para os estreantes <span class=\"highlighted\">Pipo</span> e <span class=\"highlighted\">Bernardo Castro</span>, que prometem agitar a segunda divisão.</p>      <p><span class=\"highlighted\">Peras</span>, após uma descida de divisão, está determinado a recuperar o seu lugar na primeira divisão. O <span class=\"highlighted\">Talinho</span>, por sua vez, manteve-se na primeira divisão devido à desistência do <span class=\"highlighted\">Kikão</span>, uma viragem crucial para a sua carreira no padel.</p>      <p>Os fãs do <span class=\"highlighted\">Filipe</span> podem comemorar, pois o \"bom filho a casa torna\". Com a sua presença, a competição ganha um toque especial e imprevisível.</p>      <p><span class=\"highlighted\">Pancho</span>, na segunda divisão, está mais determinado do que nunca a subir de patamar, desde que pare de faltar aos jogos e se concentre no seu desempenho.</p>      <p>O <span class=\"highlighted\">Miguel SG</span> e o <span class=\"highlighted\">Semelhe</span>, sedentos de vingança contra <span class=\"highlighted\">Cuca</span>, têm um objetivo claro: recuperar o título da Padel League Porto. A rivalidade está no ar, e a competição promete ser feroz.</p>      <p>À medida que as raquetes se erguem e os jogadores aquecem, os corações dos adeptos batem mais rápido, ansiosos por uma temporada cheia de jogadas espetaculares e momentos emocionantes. A Padel League Porto está de volta, e o espetáculo está garantido nas quadras da cidade invicta!</p>      <p>Desejamos a todos os competidores boa sorte e que aproveitem cada momento nas quadras. A Padel League Porto está de volta, e o espetáculo está garantido!</p>       <p>E como sempre despeço-me com um \\'No Padel e no amor, há uma coisa certa: a técnica é essencial,\\' Carlos GPT, o vosso guia nas quadras e na diversão!</p> </div>', 'latest': False, 'cover_image_id': None}]"
      ]
     },
     "execution_count": 74,
     "metadata": {},
     "output_type": "execute_result"
    }
   ],
   "source": [
    "get_all_elements_from_table('news')"
   ]
  },
  {
   "cell_type": "code",
   "execution_count": null,
   "metadata": {},
   "outputs": [],
   "source": []
  }
 ],
 "metadata": {
  "kernelspec": {
   "display_name": ".venv",
   "language": "python",
   "name": "python3"
  },
  "language_info": {
   "codemirror_mode": {
    "name": "ipython",
    "version": 3
   },
   "file_extension": ".py",
   "mimetype": "text/x-python",
   "name": "python",
   "nbconvert_exporter": "python",
   "pygments_lexer": "ipython3",
   "version": "3.11.0"
  }
 },
 "nbformat": 4,
 "nbformat_minor": 2
}
